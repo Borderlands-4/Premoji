{
  "nbformat": 4,
  "nbformat_minor": 0,
  "metadata": {
    "accelerator": "GPU",
    "colab": {
      "name": "LSTM.ipynb",
      "provenance": []
    },
    "kernelspec": {
      "name": "python3",
      "display_name": "Python 3"
    },
    "language_info": {
      "codemirror_mode": {
        "name": "ipython",
        "version": 3
      },
      "file_extension": ".py",
      "mimetype": "text/x-python",
      "name": "python",
      "nbconvert_exporter": "python",
      "pygments_lexer": "ipython3",
      "version": "3.6.8"
    }
  },
  "cells": [
    {
      "cell_type": "code",
      "metadata": {
        "id": "jo68zgClAq_0",
        "colab_type": "code",
        "colab": {
          "base_uri": "https://localhost:8080/",
          "height": 34
        },
        "outputId": "dc5f41d5-6335-4093-8313-c73ba85700ad"
      },
      "source": [
        "!pip install -q pyspellchecker"
      ],
      "execution_count": 1,
      "outputs": [
        {
          "output_type": "stream",
          "text": [
            "\u001b[?25l\r\u001b[K     |▏                               | 10kB 25.3MB/s eta 0:00:01\r\u001b[K     |▍                               | 20kB 1.8MB/s eta 0:00:02\r\u001b[K     |▌                               | 30kB 2.6MB/s eta 0:00:01\r\u001b[K     |▊                               | 40kB 1.7MB/s eta 0:00:02\r\u001b[K     |▉                               | 51kB 2.1MB/s eta 0:00:01\r\u001b[K     |█                               | 61kB 2.5MB/s eta 0:00:01\r\u001b[K     |█▏                              | 71kB 2.9MB/s eta 0:00:01\r\u001b[K     |█▍                              | 81kB 3.3MB/s eta 0:00:01\r\u001b[K     |█▌                              | 92kB 3.7MB/s eta 0:00:01\r\u001b[K     |█▊                              | 102kB 2.8MB/s eta 0:00:01\r\u001b[K     |█▉                              | 112kB 2.8MB/s eta 0:00:01\r\u001b[K     |██                              | 122kB 2.8MB/s eta 0:00:01\r\u001b[K     |██▎                             | 133kB 2.8MB/s eta 0:00:01\r\u001b[K     |██▍                             | 143kB 2.8MB/s eta 0:00:01\r\u001b[K     |██▋                             | 153kB 2.8MB/s eta 0:00:01\r\u001b[K     |██▊                             | 163kB 2.8MB/s eta 0:00:01\r\u001b[K     |███                             | 174kB 2.8MB/s eta 0:00:01\r\u001b[K     |███                             | 184kB 2.8MB/s eta 0:00:01\r\u001b[K     |███▎                            | 194kB 2.8MB/s eta 0:00:01\r\u001b[K     |███▍                            | 204kB 2.8MB/s eta 0:00:01\r\u001b[K     |███▋                            | 215kB 2.8MB/s eta 0:00:01\r\u001b[K     |███▊                            | 225kB 2.8MB/s eta 0:00:01\r\u001b[K     |████                            | 235kB 2.8MB/s eta 0:00:01\r\u001b[K     |████▏                           | 245kB 2.8MB/s eta 0:00:01\r\u001b[K     |████▎                           | 256kB 2.8MB/s eta 0:00:01\r\u001b[K     |████▌                           | 266kB 2.8MB/s eta 0:00:01\r\u001b[K     |████▋                           | 276kB 2.8MB/s eta 0:00:01\r\u001b[K     |████▉                           | 286kB 2.8MB/s eta 0:00:01\r\u001b[K     |█████                           | 296kB 2.8MB/s eta 0:00:01\r\u001b[K     |█████▏                          | 307kB 2.8MB/s eta 0:00:01\r\u001b[K     |█████▎                          | 317kB 2.8MB/s eta 0:00:01\r\u001b[K     |█████▌                          | 327kB 2.8MB/s eta 0:00:01\r\u001b[K     |█████▋                          | 337kB 2.8MB/s eta 0:00:01\r\u001b[K     |█████▉                          | 348kB 2.8MB/s eta 0:00:01\r\u001b[K     |██████                          | 358kB 2.8MB/s eta 0:00:01\r\u001b[K     |██████▏                         | 368kB 2.8MB/s eta 0:00:01\r\u001b[K     |██████▍                         | 378kB 2.8MB/s eta 0:00:01\r\u001b[K     |██████▌                         | 389kB 2.8MB/s eta 0:00:01\r\u001b[K     |██████▊                         | 399kB 2.8MB/s eta 0:00:01\r\u001b[K     |██████▉                         | 409kB 2.8MB/s eta 0:00:01\r\u001b[K     |███████                         | 419kB 2.8MB/s eta 0:00:01\r\u001b[K     |███████▏                        | 430kB 2.8MB/s eta 0:00:01\r\u001b[K     |███████▍                        | 440kB 2.8MB/s eta 0:00:01\r\u001b[K     |███████▌                        | 450kB 2.8MB/s eta 0:00:01\r\u001b[K     |███████▊                        | 460kB 2.8MB/s eta 0:00:01\r\u001b[K     |████████                        | 471kB 2.8MB/s eta 0:00:01\r\u001b[K     |████████                        | 481kB 2.8MB/s eta 0:00:01\r\u001b[K     |████████▎                       | 491kB 2.8MB/s eta 0:00:01\r\u001b[K     |████████▍                       | 501kB 2.8MB/s eta 0:00:01\r\u001b[K     |████████▋                       | 512kB 2.8MB/s eta 0:00:01\r\u001b[K     |████████▊                       | 522kB 2.8MB/s eta 0:00:01\r\u001b[K     |█████████                       | 532kB 2.8MB/s eta 0:00:01\r\u001b[K     |█████████                       | 542kB 2.8MB/s eta 0:00:01\r\u001b[K     |█████████▎                      | 552kB 2.8MB/s eta 0:00:01\r\u001b[K     |█████████▍                      | 563kB 2.8MB/s eta 0:00:01\r\u001b[K     |█████████▋                      | 573kB 2.8MB/s eta 0:00:01\r\u001b[K     |█████████▉                      | 583kB 2.8MB/s eta 0:00:01\r\u001b[K     |██████████                      | 593kB 2.8MB/s eta 0:00:01\r\u001b[K     |██████████▏                     | 604kB 2.8MB/s eta 0:00:01\r\u001b[K     |██████████▎                     | 614kB 2.8MB/s eta 0:00:01\r\u001b[K     |██████████▌                     | 624kB 2.8MB/s eta 0:00:01\r\u001b[K     |██████████▋                     | 634kB 2.8MB/s eta 0:00:01\r\u001b[K     |██████████▉                     | 645kB 2.8MB/s eta 0:00:01\r\u001b[K     |███████████                     | 655kB 2.8MB/s eta 0:00:01\r\u001b[K     |███████████▏                    | 665kB 2.8MB/s eta 0:00:01\r\u001b[K     |███████████▎                    | 675kB 2.8MB/s eta 0:00:01\r\u001b[K     |███████████▌                    | 686kB 2.8MB/s eta 0:00:01\r\u001b[K     |███████████▊                    | 696kB 2.8MB/s eta 0:00:01\r\u001b[K     |███████████▉                    | 706kB 2.8MB/s eta 0:00:01\r\u001b[K     |████████████                    | 716kB 2.8MB/s eta 0:00:01\r\u001b[K     |████████████▏                   | 727kB 2.8MB/s eta 0:00:01\r\u001b[K     |████████████▍                   | 737kB 2.8MB/s eta 0:00:01\r\u001b[K     |████████████▌                   | 747kB 2.8MB/s eta 0:00:01\r\u001b[K     |████████████▊                   | 757kB 2.8MB/s eta 0:00:01\r\u001b[K     |████████████▉                   | 768kB 2.8MB/s eta 0:00:01\r\u001b[K     |█████████████                   | 778kB 2.8MB/s eta 0:00:01\r\u001b[K     |█████████████▏                  | 788kB 2.8MB/s eta 0:00:01\r\u001b[K     |█████████████▍                  | 798kB 2.8MB/s eta 0:00:01\r\u001b[K     |█████████████▋                  | 808kB 2.8MB/s eta 0:00:01\r\u001b[K     |█████████████▊                  | 819kB 2.8MB/s eta 0:00:01\r\u001b[K     |██████████████                  | 829kB 2.8MB/s eta 0:00:01\r\u001b[K     |██████████████                  | 839kB 2.8MB/s eta 0:00:01\r\u001b[K     |██████████████▎                 | 849kB 2.8MB/s eta 0:00:01\r\u001b[K     |██████████████▍                 | 860kB 2.8MB/s eta 0:00:01\r\u001b[K     |██████████████▋                 | 870kB 2.8MB/s eta 0:00:01\r\u001b[K     |██████████████▊                 | 880kB 2.8MB/s eta 0:00:01\r\u001b[K     |███████████████                 | 890kB 2.8MB/s eta 0:00:01\r\u001b[K     |███████████████                 | 901kB 2.8MB/s eta 0:00:01\r\u001b[K     |███████████████▎                | 911kB 2.8MB/s eta 0:00:01\r\u001b[K     |███████████████▌                | 921kB 2.8MB/s eta 0:00:01\r\u001b[K     |███████████████▋                | 931kB 2.8MB/s eta 0:00:01\r\u001b[K     |███████████████▉                | 942kB 2.8MB/s eta 0:00:01\r\u001b[K     |████████████████                | 952kB 2.8MB/s eta 0:00:01\r\u001b[K     |████████████████▏               | 962kB 2.8MB/s eta 0:00:01\r\u001b[K     |████████████████▎               | 972kB 2.8MB/s eta 0:00:01\r\u001b[K     |████████████████▌               | 983kB 2.8MB/s eta 0:00:01\r\u001b[K     |████████████████▋               | 993kB 2.8MB/s eta 0:00:01\r\u001b[K     |████████████████▉               | 1.0MB 2.8MB/s eta 0:00:01\r\u001b[K     |█████████████████               | 1.0MB 2.8MB/s eta 0:00:01\r\u001b[K     |█████████████████▏              | 1.0MB 2.8MB/s eta 0:00:01\r\u001b[K     |█████████████████▍              | 1.0MB 2.8MB/s eta 0:00:01\r\u001b[K     |█████████████████▌              | 1.0MB 2.8MB/s eta 0:00:01\r\u001b[K     |█████████████████▊              | 1.1MB 2.8MB/s eta 0:00:01\r\u001b[K     |█████████████████▉              | 1.1MB 2.8MB/s eta 0:00:01\r\u001b[K     |██████████████████              | 1.1MB 2.8MB/s eta 0:00:01\r\u001b[K     |██████████████████▏             | 1.1MB 2.8MB/s eta 0:00:01\r\u001b[K     |██████████████████▍             | 1.1MB 2.8MB/s eta 0:00:01\r\u001b[K     |██████████████████▌             | 1.1MB 2.8MB/s eta 0:00:01\r\u001b[K     |██████████████████▊             | 1.1MB 2.8MB/s eta 0:00:01\r\u001b[K     |██████████████████▉             | 1.1MB 2.8MB/s eta 0:00:01\r\u001b[K     |███████████████████             | 1.1MB 2.8MB/s eta 0:00:01\r\u001b[K     |███████████████████▎            | 1.1MB 2.8MB/s eta 0:00:01\r\u001b[K     |███████████████████▍            | 1.2MB 2.8MB/s eta 0:00:01\r\u001b[K     |███████████████████▋            | 1.2MB 2.8MB/s eta 0:00:01\r\u001b[K     |███████████████████▊            | 1.2MB 2.8MB/s eta 0:00:01\r\u001b[K     |████████████████████            | 1.2MB 2.8MB/s eta 0:00:01\r\u001b[K     |████████████████████            | 1.2MB 2.8MB/s eta 0:00:01\r\u001b[K     |████████████████████▎           | 1.2MB 2.8MB/s eta 0:00:01\r\u001b[K     |████████████████████▍           | 1.2MB 2.8MB/s eta 0:00:01\r\u001b[K     |████████████████████▋           | 1.2MB 2.8MB/s eta 0:00:01\r\u001b[K     |████████████████████▊           | 1.2MB 2.8MB/s eta 0:00:01\r\u001b[K     |█████████████████████           | 1.2MB 2.8MB/s eta 0:00:01\r\u001b[K     |█████████████████████▏          | 1.3MB 2.8MB/s eta 0:00:01\r\u001b[K     |█████████████████████▎          | 1.3MB 2.8MB/s eta 0:00:01\r\u001b[K     |█████████████████████▌          | 1.3MB 2.8MB/s eta 0:00:01\r\u001b[K     |█████████████████████▋          | 1.3MB 2.8MB/s eta 0:00:01\r\u001b[K     |█████████████████████▉          | 1.3MB 2.8MB/s eta 0:00:01\r\u001b[K     |██████████████████████          | 1.3MB 2.8MB/s eta 0:00:01\r\u001b[K     |██████████████████████▏         | 1.3MB 2.8MB/s eta 0:00:01\r\u001b[K     |██████████████████████▎         | 1.3MB 2.8MB/s eta 0:00:01\r\u001b[K     |██████████████████████▌         | 1.3MB 2.8MB/s eta 0:00:01\r\u001b[K     |██████████████████████▋         | 1.4MB 2.8MB/s eta 0:00:01\r\u001b[K     |██████████████████████▉         | 1.4MB 2.8MB/s eta 0:00:01\r\u001b[K     |███████████████████████         | 1.4MB 2.8MB/s eta 0:00:01\r\u001b[K     |███████████████████████▏        | 1.4MB 2.8MB/s eta 0:00:01\r\u001b[K     |███████████████████████▍        | 1.4MB 2.8MB/s eta 0:00:01\r\u001b[K     |███████████████████████▌        | 1.4MB 2.8MB/s eta 0:00:01\r\u001b[K     |███████████████████████▊        | 1.4MB 2.8MB/s eta 0:00:01\r\u001b[K     |███████████████████████▉        | 1.4MB 2.8MB/s eta 0:00:01\r\u001b[K     |████████████████████████        | 1.4MB 2.8MB/s eta 0:00:01\r\u001b[K     |████████████████████████▏       | 1.4MB 2.8MB/s eta 0:00:01\r\u001b[K     |████████████████████████▍       | 1.5MB 2.8MB/s eta 0:00:01\r\u001b[K     |████████████████████████▌       | 1.5MB 2.8MB/s eta 0:00:01\r\u001b[K     |████████████████████████▊       | 1.5MB 2.8MB/s eta 0:00:01\r\u001b[K     |█████████████████████████       | 1.5MB 2.8MB/s eta 0:00:01\r\u001b[K     |█████████████████████████       | 1.5MB 2.8MB/s eta 0:00:01\r\u001b[K     |█████████████████████████▎      | 1.5MB 2.8MB/s eta 0:00:01\r\u001b[K     |█████████████████████████▍      | 1.5MB 2.8MB/s eta 0:00:01\r\u001b[K     |█████████████████████████▋      | 1.5MB 2.8MB/s eta 0:00:01\r\u001b[K     |█████████████████████████▊      | 1.5MB 2.8MB/s eta 0:00:01\r\u001b[K     |██████████████████████████      | 1.5MB 2.8MB/s eta 0:00:01\r\u001b[K     |██████████████████████████      | 1.6MB 2.8MB/s eta 0:00:01\r\u001b[K     |██████████████████████████▎     | 1.6MB 2.8MB/s eta 0:00:01\r\u001b[K     |██████████████████████████▍     | 1.6MB 2.8MB/s eta 0:00:01\r\u001b[K     |██████████████████████████▋     | 1.6MB 2.8MB/s eta 0:00:01\r\u001b[K     |██████████████████████████▉     | 1.6MB 2.8MB/s eta 0:00:01\r\u001b[K     |███████████████████████████     | 1.6MB 2.8MB/s eta 0:00:01\r\u001b[K     |███████████████████████████▏    | 1.6MB 2.8MB/s eta 0:00:01\r\u001b[K     |███████████████████████████▎    | 1.6MB 2.8MB/s eta 0:00:01\r\u001b[K     |███████████████████████████▌    | 1.6MB 2.8MB/s eta 0:00:01\r\u001b[K     |███████████████████████████▋    | 1.6MB 2.8MB/s eta 0:00:01\r\u001b[K     |███████████████████████████▉    | 1.7MB 2.8MB/s eta 0:00:01\r\u001b[K     |████████████████████████████    | 1.7MB 2.8MB/s eta 0:00:01\r\u001b[K     |████████████████████████████▏   | 1.7MB 2.8MB/s eta 0:00:01\r\u001b[K     |████████████████████████████▎   | 1.7MB 2.8MB/s eta 0:00:01\r\u001b[K     |████████████████████████████▌   | 1.7MB 2.8MB/s eta 0:00:01\r\u001b[K     |████████████████████████████▊   | 1.7MB 2.8MB/s eta 0:00:01\r\u001b[K     |████████████████████████████▉   | 1.7MB 2.8MB/s eta 0:00:01\r\u001b[K     |█████████████████████████████   | 1.7MB 2.8MB/s eta 0:00:01\r\u001b[K     |█████████████████████████████▏  | 1.7MB 2.8MB/s eta 0:00:01\r\u001b[K     |█████████████████████████████▍  | 1.8MB 2.8MB/s eta 0:00:01\r\u001b[K     |█████████████████████████████▌  | 1.8MB 2.8MB/s eta 0:00:01\r\u001b[K     |█████████████████████████████▊  | 1.8MB 2.8MB/s eta 0:00:01\r\u001b[K     |█████████████████████████████▉  | 1.8MB 2.8MB/s eta 0:00:01\r\u001b[K     |██████████████████████████████  | 1.8MB 2.8MB/s eta 0:00:01\r\u001b[K     |██████████████████████████████▏ | 1.8MB 2.8MB/s eta 0:00:01\r\u001b[K     |██████████████████████████████▍ | 1.8MB 2.8MB/s eta 0:00:01\r\u001b[K     |██████████████████████████████▋ | 1.8MB 2.8MB/s eta 0:00:01\r\u001b[K     |██████████████████████████████▊ | 1.8MB 2.8MB/s eta 0:00:01\r\u001b[K     |███████████████████████████████ | 1.8MB 2.8MB/s eta 0:00:01\r\u001b[K     |███████████████████████████████ | 1.9MB 2.8MB/s eta 0:00:01\r\u001b[K     |███████████████████████████████▎| 1.9MB 2.8MB/s eta 0:00:01\r\u001b[K     |███████████████████████████████▍| 1.9MB 2.8MB/s eta 0:00:01\r\u001b[K     |███████████████████████████████▋| 1.9MB 2.8MB/s eta 0:00:01\r\u001b[K     |███████████████████████████████▊| 1.9MB 2.8MB/s eta 0:00:01\r\u001b[K     |████████████████████████████████| 1.9MB 2.8MB/s eta 0:00:01\r\u001b[K     |████████████████████████████████| 1.9MB 2.8MB/s \n",
            "\u001b[?25h"
          ],
          "name": "stdout"
        }
      ]
    },
    {
      "cell_type": "code",
      "metadata": {
        "colab_type": "code",
        "id": "5Z97uYquWPwM",
        "colab": {
          "base_uri": "https://localhost:8080/",
          "height": 81
        },
        "outputId": "df439d39-edb1-41d3-a77e-e83f127afdda"
      },
      "source": [
        "import numpy as np\n",
        "import re\n",
        "import nltk\n",
        "from nltk.corpus import stopwords\n",
        "\n",
        "#from spellchecker import SpellChecker\n",
        "\n",
        "import keras\n",
        "from keras.preprocessing.text import Tokenizer\n",
        "from keras.preprocessing.sequence import pad_sequences\n",
        "from keras.models import Sequential\n",
        "from keras.layers import Dense, Dropout, Activation, Embedding, LSTM, Bidirectional\n",
        "from keras.utils import np_utils"
      ],
      "execution_count": 2,
      "outputs": [
        {
          "output_type": "stream",
          "text": [
            "Using TensorFlow backend.\n"
          ],
          "name": "stderr"
        },
        {
          "output_type": "display_data",
          "data": {
            "text/html": [
              "<p style=\"color: red;\">\n",
              "The default version of TensorFlow in Colab will soon switch to TensorFlow 2.x.<br>\n",
              "We recommend you <a href=\"https://www.tensorflow.org/guide/migrate\" target=\"_blank\">upgrade</a> now \n",
              "or ensure your notebook will continue to use TensorFlow 1.x via the <code>%tensorflow_version 1.x</code> magic:\n",
              "<a href=\"https://colab.research.google.com/notebooks/tensorflow_version.ipynb\" target=\"_blank\">more info</a>.</p>\n"
            ],
            "text/plain": [
              "<IPython.core.display.HTML object>"
            ]
          },
          "metadata": {
            "tags": []
          }
        }
      ]
    },
    {
      "cell_type": "code",
      "metadata": {
        "id": "2TXInHTB70ul",
        "colab_type": "code",
        "outputId": "a4fb4d5d-e535-4a1a-d46c-9652d5a4f8a9",
        "colab": {
          "base_uri": "https://localhost:8080/",
          "height": 69
        }
      },
      "source": [
        "nltk.download('stopwords')"
      ],
      "execution_count": 3,
      "outputs": [
        {
          "output_type": "stream",
          "text": [
            "[nltk_data] Downloading package stopwords to /root/nltk_data...\n",
            "[nltk_data]   Unzipping corpora/stopwords.zip.\n"
          ],
          "name": "stdout"
        },
        {
          "output_type": "execute_result",
          "data": {
            "text/plain": [
              "True"
            ]
          },
          "metadata": {
            "tags": []
          },
          "execution_count": 3
        }
      ]
    },
    {
      "cell_type": "code",
      "metadata": {
        "colab_type": "code",
        "id": "09ls1wEbWena",
        "outputId": "ccb18011-678c-4ddc-8fd7-3366bd691539",
        "colab": {
          "base_uri": "https://localhost:8080/",
          "height": 34
        }
      },
      "source": [
        "from google.colab import drive\n",
        "drive.mount('/content/drive')"
      ],
      "execution_count": 70,
      "outputs": [
        {
          "output_type": "stream",
          "text": [
            "Mounted at /content/drive\n"
          ],
          "name": "stdout"
        }
      ]
    },
    {
      "cell_type": "markdown",
      "metadata": {
        "colab_type": "text",
        "id": "pYDBQPKjWPxF"
      },
      "source": [
        "# Loading the data"
      ]
    },
    {
      "cell_type": "markdown",
      "metadata": {
        "colab_type": "text",
        "id": "CW5a1w8pHleZ"
      },
      "source": [
        "Training data"
      ]
    },
    {
      "cell_type": "code",
      "metadata": {
        "colab_type": "code",
        "id": "3EFAqwCiWPxH",
        "colab": {}
      },
      "source": [
        "f = open('/content/drive/My Drive/Projects/Premoji/Data/Train/tweets.txt.text', 'r')\n",
        "#tweets_train = f.readlines()[:50000] # using 10% of the actual data for fast training#\n",
        "tweets_train = f.readlines()\n",
        "f.close()"
      ],
      "execution_count": 0,
      "outputs": []
    },
    {
      "cell_type": "code",
      "metadata": {
        "colab_type": "code",
        "id": "GYHHskfa9WIn",
        "outputId": "8d0a32e4-1f30-4fee-e886-95664e8a976d",
        "colab": {
          "base_uri": "https://localhost:8080/",
          "height": 34
        }
      },
      "source": [
        "f = open('/content/drive/My Drive/Projects/Premoji/Data/Train/tweets.txt.labels', 'r')\n",
        "#labels_train = f.readlines()[:50000] # using 10% of the actual data for fast training\n",
        "labels_train = f.readlines()\n",
        "f.close"
      ],
      "execution_count": 73,
      "outputs": [
        {
          "output_type": "execute_result",
          "data": {
            "text/plain": [
              "<function TextIOWrapper.close>"
            ]
          },
          "metadata": {
            "tags": []
          },
          "execution_count": 73
        }
      ]
    },
    {
      "cell_type": "code",
      "metadata": {
        "colab_type": "code",
        "id": "J6F2b5XY9leA",
        "colab": {}
      },
      "source": [
        "y_train = np_utils.to_categorical([int(l.strip()) for l in labels_train], 20)"
      ],
      "execution_count": 0,
      "outputs": []
    },
    {
      "cell_type": "markdown",
      "metadata": {
        "colab_type": "text",
        "id": "U_3tPGeHHn21"
      },
      "source": [
        "Test data"
      ]
    },
    {
      "cell_type": "code",
      "metadata": {
        "colab_type": "code",
        "id": "pYrC8YNXHkuv",
        "colab": {}
      },
      "source": [
        "f = open('/content/drive/My Drive/Projects/Premoji/Data/Test/us_test.text', 'r')\n",
        "tweets_test = f.readlines()\n",
        "f.close()"
      ],
      "execution_count": 0,
      "outputs": []
    },
    {
      "cell_type": "code",
      "metadata": {
        "colab_type": "code",
        "id": "IwQVr8STIJD0",
        "outputId": "f212b7a7-e11b-4445-a384-84a3e7073be5",
        "colab": {
          "base_uri": "https://localhost:8080/",
          "height": 34
        }
      },
      "source": [
        "f = open('/content/drive/My Drive/Projects/Premoji/Data/Test/us_test.labels', 'r')\n",
        "labels_test = f.readlines()\n",
        "f.close"
      ],
      "execution_count": 76,
      "outputs": [
        {
          "output_type": "execute_result",
          "data": {
            "text/plain": [
              "<function TextIOWrapper.close>"
            ]
          },
          "metadata": {
            "tags": []
          },
          "execution_count": 76
        }
      ]
    },
    {
      "cell_type": "code",
      "metadata": {
        "colab_type": "code",
        "id": "NMDFSpH2IJD2",
        "colab": {}
      },
      "source": [
        "y_test = np_utils.to_categorical([int(l.strip()) for l in labels_test], 20)"
      ],
      "execution_count": 0,
      "outputs": []
    },
    {
      "cell_type": "markdown",
      "metadata": {
        "colab_type": "text",
        "id": "8siqD9gMWPxQ"
      },
      "source": [
        "# Preprocessing the text"
      ]
    },
    {
      "cell_type": "markdown",
      "metadata": {
        "id": "PRZZzB5FmTbg",
        "colab_type": "text"
      },
      "source": [
        "## Cleaning the text"
      ]
    },
    {
      "cell_type": "code",
      "metadata": {
        "id": "DaDSHY4yDZpB",
        "colab_type": "code",
        "colab": {}
      },
      "source": [
        "def clean_tweets(tweets):\n",
        "  # Stripping away location for the end of tweets\n",
        "  p = re.compile(r'\\s*@ .*$')\n",
        "  tweets_1 = [p.sub('', tweet) for tweet in tweets]\n",
        "  \n",
        "  # Removing @user mentions\n",
        "  tweets_2 = [tweet.replace('@user', '') for tweet in tweets_1]\n",
        "  \n",
        "  # Removing stopwords\n",
        "  stop_words = set(stopwords.words('english'))\n",
        "\n",
        "  tweets_3 = []\n",
        "\n",
        "  for tweet in tweets_2:\n",
        "    res = ''\n",
        "    for w in tweet.split():\n",
        "      if w.lower() not in stop_words:\n",
        "        res = res+w+' '\n",
        "    tweets_3.append(res)\n",
        "    \n",
        "  # Removing unicode characters\n",
        "  tweets_4 = [(tweet.encode('ascii', 'ignore')).decode(\"utf-8\") for tweet in tweets_3]\n",
        "  \n",
        "  return tweets_4\n",
        "  \n",
        "  # Spell checking\n",
        "#   spell = SpellChecker()\n",
        "  \n",
        "#   tweets_5 = []\n",
        "\n",
        "#   for tweet in tweets_4:\n",
        "#     res = ''\n",
        "#     for w in tweet.split():\n",
        "#       correction = spell.correction(w.lower())\n",
        "#       res = res+correction+' '\n",
        "#       print(w+\";\"+correction)\n",
        "#     tweets_5.append(res)\n",
        "    \n",
        "#   return tweets_5"
      ],
      "execution_count": 0,
      "outputs": []
    },
    {
      "cell_type": "markdown",
      "metadata": {
        "id": "DBgV5L4WGpZT",
        "colab_type": "text"
      },
      "source": [
        "Cleaning training data"
      ]
    },
    {
      "cell_type": "code",
      "metadata": {
        "id": "f2tULFDbFCL9",
        "colab_type": "code",
        "colab": {}
      },
      "source": [
        "tweets_train = clean_tweets(tweets_train)"
      ],
      "execution_count": 0,
      "outputs": []
    },
    {
      "cell_type": "markdown",
      "metadata": {
        "id": "xvNqoXy9GsdR",
        "colab_type": "text"
      },
      "source": [
        "Cleaning test data"
      ]
    },
    {
      "cell_type": "code",
      "metadata": {
        "id": "XG84DBHjGvgw",
        "colab_type": "code",
        "colab": {}
      },
      "source": [
        "tweets_test = clean_tweets(tweets_test)"
      ],
      "execution_count": 0,
      "outputs": []
    },
    {
      "cell_type": "markdown",
      "metadata": {
        "colab_type": "text",
        "id": "iY0T15EVWPxT"
      },
      "source": [
        "## Tokenizing the text"
      ]
    },
    {
      "cell_type": "code",
      "metadata": {
        "colab_type": "code",
        "id": "UZR47br4WPxU",
        "colab": {}
      },
      "source": [
        "vocab_size = 50000\n",
        "tokenizer = Tokenizer(filters='!\"#$%&()*+,-./:;<=>?@[\\\\]^_`{|}~\\t\\n', num_words=vocab_size, oov_token=\"UNK\")\n",
        "tokenizer.fit_on_texts(texts=tweets_train)"
      ],
      "execution_count": 0,
      "outputs": []
    },
    {
      "cell_type": "code",
      "metadata": {
        "cellView": "both",
        "colab_type": "code",
        "id": "2PZ0pZ6eWPxa",
        "jupyter": {
          "outputs_hidden": true
        },
        "colab": {}
      },
      "source": [
        "#tokenizer.get_config()"
      ],
      "execution_count": 0,
      "outputs": []
    },
    {
      "cell_type": "markdown",
      "metadata": {
        "colab_type": "text",
        "id": "_5b6lEojWPyU"
      },
      "source": [
        "Encoding and adding a padding to the training data"
      ]
    },
    {
      "cell_type": "code",
      "metadata": {
        "colab_type": "code",
        "id": "YFF8fhqcWPyW",
        "colab": {}
      },
      "source": [
        "tokenized_train = tokenizer.texts_to_sequences(tweets_train)\n",
        "x_train = pad_sequences(tokenized_train, padding='post')"
      ],
      "execution_count": 0,
      "outputs": []
    },
    {
      "cell_type": "markdown",
      "metadata": {
        "id": "gUW8kzKcO-Wz",
        "colab_type": "text"
      },
      "source": [
        "Retrieving unified vector length after padding"
      ]
    },
    {
      "cell_type": "code",
      "metadata": {
        "id": "oJH-7NbAOkVF",
        "colab_type": "code",
        "colab": {}
      },
      "source": [
        "maxlen = len(x_train[0])"
      ],
      "execution_count": 0,
      "outputs": []
    },
    {
      "cell_type": "markdown",
      "metadata": {
        "colab_type": "text",
        "id": "m4IpvsqOImJy"
      },
      "source": [
        "Encoding and adding a padding to the test\n",
        "data"
      ]
    },
    {
      "cell_type": "code",
      "metadata": {
        "colab_type": "code",
        "id": "vPlJ4ggoIwk6",
        "colab": {}
      },
      "source": [
        "tokenized_test = tokenizer.texts_to_sequences(tweets_test)\n",
        "x_test = pad_sequences(tokenized_test, padding='post', maxlen=maxlen)"
      ],
      "execution_count": 0,
      "outputs": []
    },
    {
      "cell_type": "markdown",
      "metadata": {
        "id": "jS-9CnJ4G-Gp",
        "colab_type": "text"
      },
      "source": [
        "# Word2vec"
      ]
    },
    {
      "cell_type": "markdown",
      "metadata": {
        "id": "emzoMXn-O0jB",
        "colab_type": "text"
      },
      "source": [
        "Importing word2vec"
      ]
    },
    {
      "cell_type": "code",
      "metadata": {
        "id": "rw5_0w36G_jn",
        "colab_type": "code",
        "colab": {}
      },
      "source": [
        "from gensim.models import Word2Vec"
      ],
      "execution_count": 0,
      "outputs": []
    },
    {
      "cell_type": "markdown",
      "metadata": {
        "id": "1qYcODYjPGU8",
        "colab_type": "text"
      },
      "source": [
        "Training the embedding"
      ]
    },
    {
      "cell_type": "code",
      "metadata": {
        "id": "jcUwHB2LPR58",
        "colab_type": "code",
        "colab": {}
      },
      "source": [
        "sentences = [sentence.split() for sentence in tokenizer.sequences_to_texts(tokenized_train)]"
      ],
      "execution_count": 0,
      "outputs": []
    },
    {
      "cell_type": "code",
      "metadata": {
        "id": "7I-bHPdwO7X2",
        "colab_type": "code",
        "colab": {}
      },
      "source": [
        "w2v = Word2Vec(sentences=sentences, size=200, window=5, workers=4, min_count=1)"
      ],
      "execution_count": 0,
      "outputs": []
    },
    {
      "cell_type": "code",
      "metadata": {
        "id": "UBXxxoGF2v93",
        "colab_type": "code",
        "colab": {}
      },
      "source": [
        "#embedding = model.wv.get_keras_embedding()"
      ],
      "execution_count": 0,
      "outputs": []
    },
    {
      "cell_type": "code",
      "metadata": {
        "id": "pyXPf3pABCct",
        "colab_type": "code",
        "colab": {}
      },
      "source": [
        "from numpy import zeros\n",
        "\n",
        "embedding_matrix = zeros((vocab_size, 200))\n",
        "for word, i in tokenizer.word_index.items():\n",
        "  try:\n",
        "    embedding_vector = w2v.wv.get_vector(word)\n",
        "  except:\n",
        "    continue\n",
        "  embedding_matrix[i] = embedding_vector"
      ],
      "execution_count": 0,
      "outputs": []
    },
    {
      "cell_type": "markdown",
      "metadata": {
        "colab_type": "text",
        "id": "7RvOFx4mWPyk"
      },
      "source": [
        "# Training the model"
      ]
    },
    {
      "cell_type": "markdown",
      "metadata": {
        "colab_type": "text",
        "id": "SV0DkThk51Zq"
      },
      "source": [
        "Building the model"
      ]
    },
    {
      "cell_type": "code",
      "metadata": {
        "colab_type": "code",
        "id": "4BOnJI4vWPyl",
        "colab": {}
      },
      "source": [
        "model = Sequential()"
      ],
      "execution_count": 0,
      "outputs": []
    },
    {
      "cell_type": "code",
      "metadata": {
        "colab_type": "code",
        "id": "a__sajAZhUV8",
        "colab": {}
      },
      "source": [
        "#model.add(Embedding(input_dim=vocab_size, outpub_dim=200))\n",
        "model.add(Embedding(input_dim=vocab_size, output_dim=200, weights=[embedding_matrix], trainable=False))\n",
        "model.add(LSTM(100))\n",
        "#model.add(Dropout(rate=0.5))\n",
        "model.add(Dense(20, activation='softmax'))"
      ],
      "execution_count": 0,
      "outputs": []
    },
    {
      "cell_type": "code",
      "metadata": {
        "colab_type": "code",
        "id": "TRw_7a335_p9",
        "colab": {}
      },
      "source": [
        "model.compile(loss='categorical_crossentropy',\n",
        "             optimizer='rmsprop',\n",
        "             metrics=['accuracy'])"
      ],
      "execution_count": 0,
      "outputs": []
    },
    {
      "cell_type": "markdown",
      "metadata": {
        "colab_type": "text",
        "id": "FpLiXZvt72R2"
      },
      "source": [
        "Training the model"
      ]
    },
    {
      "cell_type": "code",
      "metadata": {
        "colab_type": "code",
        "id": "7lh8f2Xy74pr",
        "outputId": "bd1f78c9-1f59-46c7-fb7b-ec10adb400b8",
        "colab": {
          "base_uri": "https://localhost:8080/",
          "height": 402
        }
      },
      "source": [
        "model.fit(x_train, y_train,\n",
        "         validation_split=0.3, epochs=10, batch_size=64)"
      ],
      "execution_count": 93,
      "outputs": [
        {
          "output_type": "stream",
          "text": [
            "Train on 340005 samples, validate on 145717 samples\n",
            "Epoch 1/10\n",
            "340005/340005 [==============================] - 262s 771us/step - loss: 2.3892 - acc: 0.3056 - val_loss: 2.3217 - val_acc: 0.3206\n",
            "Epoch 2/10\n",
            "340005/340005 [==============================] - 260s 766us/step - loss: 2.3003 - acc: 0.3248 - val_loss: 2.2873 - val_acc: 0.3294\n",
            "Epoch 3/10\n",
            "340005/340005 [==============================] - 259s 763us/step - loss: 2.2649 - acc: 0.3323 - val_loss: 2.2551 - val_acc: 0.3355\n",
            "Epoch 4/10\n",
            "340005/340005 [==============================] - 256s 754us/step - loss: 2.2411 - acc: 0.3367 - val_loss: 2.2437 - val_acc: 0.3391\n",
            "Epoch 5/10\n",
            "340005/340005 [==============================] - 252s 743us/step - loss: 2.2224 - acc: 0.3413 - val_loss: 2.2322 - val_acc: 0.3407\n",
            "Epoch 6/10\n",
            "340005/340005 [==============================] - 255s 751us/step - loss: 2.2057 - acc: 0.3447 - val_loss: 2.2300 - val_acc: 0.3393\n",
            "Epoch 7/10\n",
            "340005/340005 [==============================] - 258s 760us/step - loss: 2.1907 - acc: 0.3487 - val_loss: 2.2146 - val_acc: 0.3436\n",
            "Epoch 8/10\n",
            "340005/340005 [==============================] - 256s 752us/step - loss: 2.1771 - acc: 0.3511 - val_loss: 2.2093 - val_acc: 0.3450\n",
            "Epoch 9/10\n",
            "340005/340005 [==============================] - 255s 750us/step - loss: 2.1642 - acc: 0.3543 - val_loss: 2.2072 - val_acc: 0.3462\n",
            "Epoch 10/10\n",
            "340005/340005 [==============================] - 252s 742us/step - loss: 2.1516 - acc: 0.3577 - val_loss: 2.2011 - val_acc: 0.3491\n"
          ],
          "name": "stdout"
        },
        {
          "output_type": "execute_result",
          "data": {
            "text/plain": [
              "<keras.callbacks.History at 0x7fb0246a7e10>"
            ]
          },
          "metadata": {
            "tags": []
          },
          "execution_count": 93
        }
      ]
    },
    {
      "cell_type": "markdown",
      "metadata": {
        "colab_type": "text",
        "id": "vVzvQqbzKMkP"
      },
      "source": [
        "# Evaluation"
      ]
    },
    {
      "cell_type": "code",
      "metadata": {
        "colab_type": "code",
        "id": "SERkusxtKMWt",
        "outputId": "678014b6-842f-4c83-a20e-0858fcea7b87",
        "colab": {
          "base_uri": "https://localhost:8080/",
          "height": 34
        }
      },
      "source": [
        "loss, accuracy = model.evaluate(x_test, y_test)"
      ],
      "execution_count": 94,
      "outputs": [
        {
          "output_type": "stream",
          "text": [
            "50000/50000 [==============================] - 18s 355us/step\n"
          ],
          "name": "stdout"
        }
      ]
    },
    {
      "cell_type": "markdown",
      "metadata": {
        "colab_type": "text",
        "id": "LWmZXFgKKZXa"
      },
      "source": [
        "Results :"
      ]
    },
    {
      "cell_type": "code",
      "metadata": {
        "colab_type": "code",
        "id": "gdQE9kRRKcL-",
        "outputId": "2c28b569-34e4-4d03-8888-7a96710bf2c9",
        "colab": {
          "base_uri": "https://localhost:8080/",
          "height": 52
        }
      },
      "source": [
        "print('Loss :', loss)\n",
        "print('Accuracy :', accuracy)"
      ],
      "execution_count": 95,
      "outputs": [
        {
          "output_type": "stream",
          "text": [
            "Loss : 2.3248942930603027\n",
            "Accuracy : 0.32928\n"
          ],
          "name": "stdout"
        }
      ]
    },
    {
      "cell_type": "markdown",
      "metadata": {
        "id": "b5wPmjkDa8yt",
        "colab_type": "text"
      },
      "source": [
        "# Prediction"
      ]
    },
    {
      "cell_type": "code",
      "metadata": {
        "id": "Vf5tF_DMmpkH",
        "colab_type": "code",
        "outputId": "31a0f97e-5d88-455f-f601-0603bdf07f04",
        "colab": {
          "base_uri": "https://localhost:8080/",
          "height": 69
        }
      },
      "source": [
        "tweet = \"RuPaul's Drag Race bingo fun. Drag Queens be SEXY! #rupaulsdragrace @user abwyman #la…\"\n",
        "label = 9\n",
        "\n",
        "tokens = tokenizer.texts_to_sequences([tweet])\n",
        "x = pad_sequences(tokens, padding='post', maxlen=maxlen)\n",
        "\n",
        "y = np_utils.to_categorical([label], 20)\n",
        "\n",
        "print(x[0])\n",
        "print(y)"
      ],
      "execution_count": 0,
      "outputs": [
        {
          "output_type": "stream",
          "text": [
            "[    1  2927  1271  6326    29  2927  1925   507   817  6803 24953     1\n",
            "     1     0     0     0     0     0     0     0     0     0     0     0]\n",
            "[[0. 0. 0. 0. 0. 0. 0. 0. 0. 1. 0. 0. 0. 0. 0. 0. 0. 0. 0. 0.]]\n"
          ],
          "name": "stdout"
        }
      ]
    },
    {
      "cell_type": "code",
      "metadata": {
        "id": "Qpq_cKBla_TI",
        "colab_type": "code",
        "outputId": "50401453-66d8-4acc-c973-b786cd128d03",
        "colab": {
          "base_uri": "https://localhost:8080/",
          "height": 34
        }
      },
      "source": [
        "prediction = model.predict(x)\n",
        "\n",
        "print(range(1,21)[np.argmax(prediction[0])])"
      ],
      "execution_count": 0,
      "outputs": [
        {
          "output_type": "stream",
          "text": [
            "2\n"
          ],
          "name": "stdout"
        }
      ]
    },
    {
      "cell_type": "markdown",
      "metadata": {
        "id": "UxHYrUt-UL8U",
        "colab_type": "text"
      },
      "source": [
        "# Saving the model"
      ]
    },
    {
      "cell_type": "code",
      "metadata": {
        "id": "qcoAQ44WUPdH",
        "colab_type": "code",
        "colab": {}
      },
      "source": [
        "model.save('/content/drive/My Drive/Projects/Premoji/lstm.h5')"
      ],
      "execution_count": 0,
      "outputs": []
    }
  ]
}