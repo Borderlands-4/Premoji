{
 "cells": [
  {
   "cell_type": "code",
   "execution_count": 27,
   "metadata": {},
   "outputs": [],
   "source": [
    "import csv\n",
    "import numpy as np\n",
    "data = []\n",
    "with open(\"./data/train/tweets2.txt.data\", newline='', encoding='utf8') as file_data:\n",
    "    reader = csv.reader(file_data, delimiter=\";\")\n",
    "    for row in reader:\n",
    "        data.append(row)\n",
    "        #print(row)\n"
   ]
  },
  {
   "cell_type": "code",
   "execution_count": 28,
   "metadata": {},
   "outputs": [
    {
     "data": {
      "text/plain": [
       "array([['id', 'in_reply_to_user_id_str', 'possibly_sensitive', ...,\n",
       "        'user_followers_count', 'text', 'emoji'],\n",
       "       ['812015924374974464', 'None', 'False', ..., '218',\n",
       "        'Things got a little festive at the office #christmas2016 @ RedRock… ',\n",
       "        '17'],\n",
       "       ['655572731661037568', 'None', 'False', ..., '63',\n",
       "        'Thanks for taking me to the OSU game @user @ Ohio Stadium ',\n",
       "        '16'],\n",
       "       ...,\n",
       "       ['810609786492485632', 'None', 'False', ..., '260',\n",
       "        'Low-quality pic, high-quality couple @ The Bluestone ', '9'],\n",
       "       ['742481324477435904', 'None', 'False', ..., '727',\n",
       "        'When you get thrown into the friend zone W/ @user @user baywatch85 @user ',\n",
       "        '2'],\n",
       "       ['772109095608328192', 'None', 'False', ..., '1431',\n",
       "        '2016.09.03: ASAP Live in New York @ Barclays Center ', '11']],\n",
       "      dtype='<U152')"
      ]
     },
     "execution_count": 28,
     "metadata": {},
     "output_type": "execute_result"
    }
   ],
   "source": [
    "# Faire plus propre en créant directement un tableau numpy TODO\n",
    "data = np.array(data)\n",
    "data"
   ]
  },
  {
   "cell_type": "code",
   "execution_count": 29,
   "metadata": {
    "scrolled": true
   },
   "outputs": [
    {
     "data": {
      "text/html": [
       "<div>\n",
       "<style scoped>\n",
       "    .dataframe tbody tr th:only-of-type {\n",
       "        vertical-align: middle;\n",
       "    }\n",
       "\n",
       "    .dataframe tbody tr th {\n",
       "        vertical-align: top;\n",
       "    }\n",
       "\n",
       "    .dataframe thead th {\n",
       "        text-align: right;\n",
       "    }\n",
       "</style>\n",
       "<table border=\"1\" class=\"dataframe\">\n",
       "  <thead>\n",
       "    <tr style=\"text-align: right;\">\n",
       "      <th></th>\n",
       "      <th>id</th>\n",
       "      <th>in_reply_to_user_id_str</th>\n",
       "      <th>possibly_sensitive</th>\n",
       "      <th>source</th>\n",
       "      <th>created_at</th>\n",
       "      <th>retweet_count</th>\n",
       "      <th>retweeted</th>\n",
       "      <th>is_quote_status</th>\n",
       "      <th>user_friends_count</th>\n",
       "      <th>user_profile_image_url_https</th>\n",
       "      <th>user_statuses_count</th>\n",
       "      <th>user_followers_count</th>\n",
       "      <th>text</th>\n",
       "      <th>emoji</th>\n",
       "    </tr>\n",
       "  </thead>\n",
       "  <tbody>\n",
       "    <tr>\n",
       "      <th>0</th>\n",
       "      <td>812015924374974464</td>\n",
       "      <td>None</td>\n",
       "      <td>False</td>\n",
       "      <td>&lt;a href=\"http://instagram.com\" rel=\"nofollow\"&gt;...</td>\n",
       "      <td>Thu Dec 22 19:24:17 +0000 2016</td>\n",
       "      <td>0</td>\n",
       "      <td>False</td>\n",
       "      <td>False</td>\n",
       "      <td>115</td>\n",
       "      <td>https://pbs.twimg.com/profile_images/116956618...</td>\n",
       "      <td>1620</td>\n",
       "      <td>218</td>\n",
       "      <td>Things got a little festive at the office #chr...</td>\n",
       "      <td>17</td>\n",
       "    </tr>\n",
       "    <tr>\n",
       "      <th>1</th>\n",
       "      <td>655572731661037568</td>\n",
       "      <td>None</td>\n",
       "      <td>False</td>\n",
       "      <td>&lt;a href=\"http://instagram.com\" rel=\"nofollow\"&gt;...</td>\n",
       "      <td>Sun Oct 18 02:34:53 +0000 2015</td>\n",
       "      <td>0</td>\n",
       "      <td>False</td>\n",
       "      <td>False</td>\n",
       "      <td>18</td>\n",
       "      <td>https://pbs.twimg.com/profile_images/800585799...</td>\n",
       "      <td>961</td>\n",
       "      <td>63</td>\n",
       "      <td>Thanks for taking me to the OSU game @user @ O...</td>\n",
       "      <td>16</td>\n",
       "    </tr>\n",
       "    <tr>\n",
       "      <th>2</th>\n",
       "      <td>693231994616938496</td>\n",
       "      <td>None</td>\n",
       "      <td>False</td>\n",
       "      <td>&lt;a href=\"http://instagram.com\" rel=\"nofollow\"&gt;...</td>\n",
       "      <td>Sat Jan 30 00:39:21 +0000 2016</td>\n",
       "      <td>0</td>\n",
       "      <td>False</td>\n",
       "      <td>False</td>\n",
       "      <td>96</td>\n",
       "      <td>https://pbs.twimg.com/profile_images/739784357...</td>\n",
       "      <td>3924</td>\n",
       "      <td>67</td>\n",
       "      <td>My baby bear @ Bubby's</td>\n",
       "      <td>1</td>\n",
       "    </tr>\n",
       "    <tr>\n",
       "      <th>3</th>\n",
       "      <td>655883177685327872</td>\n",
       "      <td>None</td>\n",
       "      <td>None</td>\n",
       "      <td>&lt;a href=\"http://twitter.com/download/iphone\" r...</td>\n",
       "      <td>Sun Oct 18 23:08:29 +0000 2015</td>\n",
       "      <td>0</td>\n",
       "      <td>False</td>\n",
       "      <td>False</td>\n",
       "      <td>450</td>\n",
       "      <td>https://pbs.twimg.com/profile_images/844756677...</td>\n",
       "      <td>2258</td>\n",
       "      <td>782</td>\n",
       "      <td>@user ily ur life</td>\n",
       "      <td>0</td>\n",
       "    </tr>\n",
       "    <tr>\n",
       "      <th>4</th>\n",
       "      <td>812504019310706688</td>\n",
       "      <td>None</td>\n",
       "      <td>False</td>\n",
       "      <td>&lt;a href=\"http://instagram.com\" rel=\"nofollow\"&gt;...</td>\n",
       "      <td>Sat Dec 24 03:43:48 +0000 2016</td>\n",
       "      <td>0</td>\n",
       "      <td>False</td>\n",
       "      <td>False</td>\n",
       "      <td>598</td>\n",
       "      <td>https://pbs.twimg.com/profile_images/105013745...</td>\n",
       "      <td>11131</td>\n",
       "      <td>853</td>\n",
       "      <td>My man tucker2639 keepin it with the #dab at t...</td>\n",
       "      <td>15</td>\n",
       "    </tr>\n",
       "  </tbody>\n",
       "</table>\n",
       "</div>"
      ],
      "text/plain": [
       "                   id in_reply_to_user_id_str possibly_sensitive  \\\n",
       "0  812015924374974464                    None              False   \n",
       "1  655572731661037568                    None              False   \n",
       "2  693231994616938496                    None              False   \n",
       "3  655883177685327872                    None               None   \n",
       "4  812504019310706688                    None              False   \n",
       "\n",
       "                                              source  \\\n",
       "0  <a href=\"http://instagram.com\" rel=\"nofollow\">...   \n",
       "1  <a href=\"http://instagram.com\" rel=\"nofollow\">...   \n",
       "2  <a href=\"http://instagram.com\" rel=\"nofollow\">...   \n",
       "3  <a href=\"http://twitter.com/download/iphone\" r...   \n",
       "4  <a href=\"http://instagram.com\" rel=\"nofollow\">...   \n",
       "\n",
       "                       created_at retweet_count retweeted is_quote_status  \\\n",
       "0  Thu Dec 22 19:24:17 +0000 2016             0     False           False   \n",
       "1  Sun Oct 18 02:34:53 +0000 2015             0     False           False   \n",
       "2  Sat Jan 30 00:39:21 +0000 2016             0     False           False   \n",
       "3  Sun Oct 18 23:08:29 +0000 2015             0     False           False   \n",
       "4  Sat Dec 24 03:43:48 +0000 2016             0     False           False   \n",
       "\n",
       "  user_friends_count                       user_profile_image_url_https  \\\n",
       "0                115  https://pbs.twimg.com/profile_images/116956618...   \n",
       "1                 18  https://pbs.twimg.com/profile_images/800585799...   \n",
       "2                 96  https://pbs.twimg.com/profile_images/739784357...   \n",
       "3                450  https://pbs.twimg.com/profile_images/844756677...   \n",
       "4                598  https://pbs.twimg.com/profile_images/105013745...   \n",
       "\n",
       "  user_statuses_count user_followers_count  \\\n",
       "0                1620                  218   \n",
       "1                 961                   63   \n",
       "2                3924                   67   \n",
       "3                2258                  782   \n",
       "4               11131                  853   \n",
       "\n",
       "                                                text emoji  \n",
       "0  Things got a little festive at the office #chr...    17  \n",
       "1  Thanks for taking me to the OSU game @user @ O...    16  \n",
       "2                            My baby bear @ Bubby's      1  \n",
       "3                                 @user ily ur life      0  \n",
       "4  My man tucker2639 keepin it with the #dab at t...    15  "
      ]
     },
     "execution_count": 29,
     "metadata": {},
     "output_type": "execute_result"
    }
   ],
   "source": [
    "import pandas as pd\n",
    "pd.DataFrame(data[1:], columns=data[0]).head()"
   ]
  },
  {
   "cell_type": "code",
   "execution_count": 30,
   "metadata": {},
   "outputs": [],
   "source": [
    "X = data[1:,12]\n",
    "y = data[1:,13]\n",
    "from sklearn.feature_extraction.text import CountVectorizer\n",
    "vect = CountVectorizer()\n",
    "X_dtm = vect.fit_transform(X)\n"
   ]
  },
  {
   "cell_type": "code",
   "execution_count": 31,
   "metadata": {},
   "outputs": [
    {
     "name": "stdout",
     "output_type": "stream",
     "text": [
      "Wall time: 1.07 s\n"
     ]
    },
    {
     "data": {
      "text/plain": [
       "MultinomialNB(alpha=1.0, class_prior=None, fit_prior=True)"
      ]
     },
     "execution_count": 31,
     "metadata": {},
     "output_type": "execute_result"
    }
   ],
   "source": [
    "from sklearn.naive_bayes import MultinomialNB\n",
    "nb = MultinomialNB()\n",
    "%time nb.fit(X_dtm, y)"
   ]
  },
  {
   "cell_type": "code",
   "execution_count": 33,
   "metadata": {},
   "outputs": [
    {
     "data": {
      "text/plain": [
       "array(['6', '0', '0', ..., '0', '0', '0'], dtype='<U2')"
      ]
     },
     "execution_count": 33,
     "metadata": {},
     "output_type": "execute_result"
    }
   ],
   "source": [
    "test=[]\n",
    "with open(\"./data/test/us_test.text\", newline='', encoding='utf8') as test_data:\n",
    "    file = test_data.readlines()\n",
    "    for row in file:\n",
    "        test.append(row)\n",
    "        #print(row)\n",
    "test = np.asarray(test)\n",
    "test_dtm = vect.transform(test)\n",
    "nb.predict(test_dtm)"
   ]
  },
  {
   "cell_type": "code",
   "execution_count": null,
   "metadata": {},
   "outputs": [],
   "source": []
  }
 ],
 "metadata": {
  "kernelspec": {
   "display_name": "Python 3",
   "language": "python",
   "name": "python3"
  },
  "language_info": {
   "codemirror_mode": {
    "name": "ipython",
    "version": 3
   },
   "file_extension": ".py",
   "mimetype": "text/x-python",
   "name": "python",
   "nbconvert_exporter": "python",
   "pygments_lexer": "ipython3",
   "version": "3.7.3"
  }
 },
 "nbformat": 4,
 "nbformat_minor": 2
}
