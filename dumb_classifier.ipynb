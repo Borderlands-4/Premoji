{
 "cells": [
  {
   "cell_type": "code",
   "execution_count": 22,
   "metadata": {},
   "outputs": [],
   "source": [
    "import csv\n",
    "import numpy as np\n",
    "X = []\n",
    "with open(\"./data/train/crawler/rawdata/tweets1.txt.Text\", newline='', encoding='utf8') as file_data:\n",
    "    for row in file_data:\n",
    "        X.append(row)\n",
    "    #for row in reader:\n",
    "        #data.append(row)\n",
    "        #print(row)\n",
    "y = []\n",
    "with open(\"./data/train/crawler/rawdata/tweets1.txt.labels\", newline='', encoding='utf8') as file_data:\n",
    "    for row in file_data:\n",
    "        y.append(row.replace(\"\\r\\n\",\"\"))\n"
   ]
  },
  {
   "cell_type": "code",
   "execution_count": 24,
   "metadata": {},
   "outputs": [],
   "source": [
    "# Faire plus propre en créant directement un tableau numpy TODO\n",
    "X = np.array(X[:200])\n",
    "y = np.array(y[:200])"
   ]
  },
  {
   "cell_type": "code",
   "execution_count": 25,
   "metadata": {},
   "outputs": [
    {
     "data": {
      "text/plain": [
       "array(['2', '17', '0', '18', '1', '9', '2', '8', '13', '0', '2', '18',\n",
       "       '12', '3', '5', '14', '16', '1', '16', '10', '1', '0', '4', '9',\n",
       "       '6', '6', '6', '4', '17', '2', '15', '1', '2', '14', '2', '0', '9',\n",
       "       '4', '0', '17', '0', '0', '16', '4', '2', '5', '2', '14', '0', '4',\n",
       "       '7', '7', '3', '0', '3', '5', '0', '5', '4', '0', '0', '0', '0',\n",
       "       '14', '5', '1', '8', '0', '9', '0', '4', '12', '5', '12', '6', '3',\n",
       "       '8', '9', '6', '3', '3', '13', '19', '18', '4', '5', '10', '7',\n",
       "       '11', '5', '15', '17', '9', '18', '1', '0', '1', '19', '10', '2',\n",
       "       '0', '1', '0', '0', '1', '0', '0', '0', '2', '2', '11', '18', '2',\n",
       "       '15', '3', '0', '13', '4', '0', '8', '3', '0', '5', '1', '1', '17',\n",
       "       '1', '1', '8', '7', '10', '0', '4', '9', '6', '0', '16', '1', '1',\n",
       "       '3', '9', '11', '12', '10', '3', '2', '8', '0', '14', '18', '12',\n",
       "       '9', '3', '5', '19', '11', '8', '0', '6', '0', '16', '5', '13',\n",
       "       '1', '8', '6', '12', '17', '17', '2', '1', '14', '0', '4', '0',\n",
       "       '8', '0', '3', '2', '2', '0', '2', '8', '2', '2', '1', '0', '9',\n",
       "       '13', '2', '14', '4', '16', '0', '3', '4', '14', '10', '6', '18'],\n",
       "      dtype='<U2')"
      ]
     },
     "execution_count": 25,
     "metadata": {},
     "output_type": "execute_result"
    }
   ],
   "source": [
    "\n",
    "from sklearn.feature_extraction.text import CountVectorizer\n",
    "vect = CountVectorizer()\n",
    "X_dtm = vect.fit_transform(X)\n",
    "\n",
    "y"
   ]
  },
  {
   "cell_type": "code",
   "execution_count": 26,
   "metadata": {},
   "outputs": [
    {
     "name": "stdout",
     "output_type": "stream",
     "text": [
      "Wall time: 3 ms\n"
     ]
    },
    {
     "data": {
      "text/plain": [
       "MultinomialNB(alpha=1.0, class_prior=None, fit_prior=True)"
      ]
     },
     "execution_count": 26,
     "metadata": {},
     "output_type": "execute_result"
    }
   ],
   "source": [
    "from sklearn.naive_bayes import MultinomialNB\n",
    "nb = MultinomialNB()\n",
    "%time nb.fit(X_dtm, y)"
   ]
  },
  {
   "cell_type": "code",
   "execution_count": 27,
   "metadata": {},
   "outputs": [
    {
     "data": {
      "text/plain": [
       "array(['0', '0', '2', ..., '0', '0', '0'], dtype='<U2')"
      ]
     },
     "execution_count": 27,
     "metadata": {},
     "output_type": "execute_result"
    }
   ],
   "source": [
    "test=[]\n",
    "with open(\"./data/test/us_test.text\", newline='', encoding='utf8') as test_data:\n",
    "    file = test_data.readlines()\n",
    "    for row in file:\n",
    "        test.append(row)\n",
    "        #print(row)\n",
    "test = np.asarray(test)\n",
    "test_dtm = vect.transform(test)\n",
    "nb.predict(test_dtm)"
   ]
  },
  {
   "cell_type": "code",
   "execution_count": null,
   "metadata": {},
   "outputs": [],
   "source": []
  },
  {
   "cell_type": "code",
   "execution_count": null,
   "metadata": {},
   "outputs": [],
   "source": []
  },
  {
   "cell_type": "code",
   "execution_count": null,
   "metadata": {},
   "outputs": [],
   "source": []
  },
  {
   "cell_type": "code",
   "execution_count": null,
   "metadata": {},
   "outputs": [],
   "source": []
  }
 ],
 "metadata": {
  "kernelspec": {
   "display_name": "Python 3",
   "language": "python",
   "name": "python3"
  },
  "language_info": {
   "codemirror_mode": {
    "name": "ipython",
    "version": 3
   },
   "file_extension": ".py",
   "mimetype": "text/x-python",
   "name": "python",
   "nbconvert_exporter": "python",
   "pygments_lexer": "ipython3",
   "version": "3.7.3"
  }
 },
 "nbformat": 4,
 "nbformat_minor": 2
}
