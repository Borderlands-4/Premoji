{
 "cells": [
  {
   "cell_type": "markdown",
   "metadata": {},
   "source": [
    "# Loading training data"
   ]
  },
  {
   "cell_type": "code",
   "execution_count": 9,
   "metadata": {},
   "outputs": [],
   "source": [
    "import csv\n",
    "import numpy as np\n",
    "X = []\n",
    "with open(\"./data/train/crawler/data/tweets.txt.text\", newline='', encoding='utf8') as file_data:\n",
    "    i = 0 \n",
    "    for row in file_data:\n",
    "        X.append(row.replace(\"\\n\",\"\"))\n",
    "            \n",
    "y = []\n",
    "with open(\"./data/train/crawler/data/tweets.txt.labels\", newline='', encoding='utf8') as file_data:\n",
    "    j = 0\n",
    "    for row in file_data:\n",
    "        y.append(row.replace(\"\\n\",\"\"))"
   ]
  },
  {
   "cell_type": "code",
   "execution_count": 10,
   "metadata": {},
   "outputs": [],
   "source": [
    "X = np.array(X)\n",
    "y = np.array(y)"
   ]
  },
  {
   "cell_type": "markdown",
   "metadata": {},
   "source": [
    "# Data vectorisation"
   ]
  },
  {
   "cell_type": "code",
   "execution_count": 11,
   "metadata": {},
   "outputs": [],
   "source": [
    "from sklearn.feature_extraction.text import CountVectorizer\n",
    "vect = CountVectorizer()\n",
    "X_dtm = vect.fit_transform(X)"
   ]
  },
  {
   "cell_type": "markdown",
   "metadata": {},
   "source": [
    "# Data test loading and vectorisation"
   ]
  },
  {
   "cell_type": "code",
   "execution_count": 12,
   "metadata": {},
   "outputs": [],
   "source": [
    "test=[]\n",
    "with open(\"./data/test/us_test.text\", newline='', encoding='utf8') as test_data:\n",
    "    file = test_data.readlines()\n",
    "    for row in file:\n",
    "        test.append(row.replace(\"\\n\",\"\"))\n",
    "\n",
    "test = np.asarray(test)\n",
    "test_dtm = vect.transform(test)"
   ]
  },
  {
   "cell_type": "code",
   "execution_count": 13,
   "metadata": {},
   "outputs": [],
   "source": [
    "test_label = []\n",
    "with open(\"./data/test/us_test.labels\", newline='', encoding='utf8') as test_data_label:\n",
    "    file = test_data_label.readlines()\n",
    "    for row in file:\n",
    "        test_label.append(row.replace(\"\\n\",\"\"))\n",
    "test_label = np.asarray(test_label)\n",
    "test_label = test_label.reshape(-1,1)"
   ]
  },
  {
   "cell_type": "markdown",
   "metadata": {},
   "source": [
    "# Model implementation and training\n",
    "## Measurements calculation and results"
   ]
  },
  {
   "cell_type": "code",
   "execution_count": 14,
   "metadata": {},
   "outputs": [
    {
     "name": "stderr",
     "output_type": "stream",
     "text": [
      "/home/julien/.local/lib/python3.6/site-packages/sklearn/svm/base.py:929: ConvergenceWarning: Liblinear failed to converge, increase the number of iterations.\n",
      "  \"the number of iterations.\", ConvergenceWarning)\n"
     ]
    },
    {
     "name": "stdout",
     "output_type": "stream",
     "text": [
      "              precision    recall  f1-score   support\n",
      "\n",
      "           0       0.35      0.51      0.41     10798\n",
      "           1       0.22      0.21      0.21      4830\n",
      "          10       0.14      0.12      0.13      1432\n",
      "          11       0.53      0.52      0.53      1949\n",
      "          12       0.28      0.39      0.32      1265\n",
      "          13       0.14      0.08      0.10      1114\n",
      "          14       0.07      0.05      0.05      1306\n",
      "          15       0.18      0.17      0.17      1244\n",
      "          16       0.07      0.06      0.06      1153\n",
      "          17       0.56      0.61      0.58      1545\n",
      "          18       0.25      0.11      0.16      2417\n",
      "          19       0.04      0.03      0.04      1010\n",
      "           2       0.31      0.40      0.35      4534\n",
      "           3       0.11      0.06      0.08      2605\n",
      "           4       0.46      0.38      0.42      3716\n",
      "           5       0.07      0.08      0.07      1613\n",
      "           6       0.14      0.12      0.13      1996\n",
      "           7       0.27      0.18      0.21      2749\n",
      "           8       0.15      0.09      0.11      1549\n",
      "           9       0.09      0.06      0.08      1175\n",
      "\n",
      "    accuracy                           0.29     50000\n",
      "   macro avg       0.22      0.21      0.21     50000\n",
      "weighted avg       0.27      0.29      0.27     50000\n",
      "\n",
      "la matrice de confusion : \n",
      "[[[28771 10431]\n",
      "  [ 5243  5555]]\n",
      "\n",
      " [[41482  3688]\n",
      "  [ 3810  1020]]\n",
      "\n",
      " [[47557  1011]\n",
      "  [ 1266   166]]\n",
      "\n",
      " [[47166   885]\n",
      "  [  931  1018]]\n",
      "\n",
      " [[47462  1273]\n",
      "  [  773   492]]\n",
      "\n",
      " [[48342   544]\n",
      "  [ 1023    91]]\n",
      "\n",
      " [[47875   819]\n",
      "  [ 1247    59]]\n",
      "\n",
      " [[47787   969]\n",
      "  [ 1038   206]]\n",
      "\n",
      " [[48018   829]\n",
      "  [ 1088    65]]\n",
      "\n",
      " [[47729   726]\n",
      "  [  607   938]]\n",
      "\n",
      " [[46785   798]\n",
      "  [ 2145   272]]\n",
      "\n",
      " [[48244   746]\n",
      "  [  975    35]]\n",
      "\n",
      " [[41506  3960]\n",
      "  [ 2735  1799]]\n",
      "\n",
      " [[46076  1319]\n",
      "  [ 2438   167]]\n",
      "\n",
      " [[44593  1691]\n",
      "  [ 2289  1427]]\n",
      "\n",
      " [[46814  1573]\n",
      "  [ 1491   122]]\n",
      "\n",
      " [[46568  1436]\n",
      "  [ 1763   233]]\n",
      "\n",
      " [[45880  1371]\n",
      "  [ 2254   495]]\n",
      "\n",
      " [[47638   813]\n",
      "  [ 1408   141]]\n",
      "\n",
      " [[48083   742]\n",
      "  [ 1100    75]]]\n"
     ]
    }
   ],
   "source": [
    "import pandas as pd\n",
    "from sklearn.svm import LinearSVC\n",
    "from sklearn.model_selection import cross_val_score\n",
    "from sklearn.metrics import multilabel_confusion_matrix, accuracy_score, f1_score, jaccard_score, classification_report\n",
    "\n",
    "\n",
    "models = [\n",
    "    LinearSVC()\n",
    "]\n",
    "CV = 5\n",
    "cv_df = pd.DataFrame(index=range(CV * len(models)))\n",
    "entries = []\n",
    "\n",
    "for model in models:\n",
    "    model_name = model.__class__.__name__\n",
    "    model.fit(X_dtm, y)\n",
    "    predict_label = model.predict(test_dtm)\n",
    "    acc = accuracy_score(predict_label,test_label)\n",
    "    f1 = f1_score(predict_label, test_label, average = 'weighted')\n",
    "    cm = multilabel_confusion_matrix(test_label,predict_label)\n",
    "    jaccard = jaccard_score(test_label, predict_label, average='micro')\n",
    "    print(classification_report(test_label, predict_label))\n",
    "    print (\"la matrice de confusion : \")\n",
    "    print(cm)\n",
    "    entries.append((model_name, acc, f1, jaccard))\n",
    "    \n",
    "cv_df = pd.DataFrame(entries, columns=['model_name', 'accuracy', 'f1', 'jaccard'])"
   ]
  },
  {
   "cell_type": "code",
   "execution_count": 15,
   "metadata": {},
   "outputs": [
    {
     "name": "stdout",
     "output_type": "stream",
     "text": [
      "  model_name  accuracy       f1   jaccard\n",
      "0  LinearSVC   0.28752  0.30501  0.167897\n"
     ]
    }
   ],
   "source": [
    "print (cv_df)"
   ]
  },
  {
   "cell_type": "markdown",
   "metadata": {},
   "source": [
    "# Grid Search use to find the best parameters for this model"
   ]
  },
  {
   "cell_type": "code",
   "execution_count": 34,
   "metadata": {},
   "outputs": [
    {
     "name": "stdout",
     "output_type": "stream",
     "text": [
      "{'mean_fit_time': array([0.05892825, 0.02644642, 0.05153545, 0.04271213, 0.07403366,\n",
      "       0.04101721, 0.05581911, 0.04363139, 0.04777376, 0.02871299,\n",
      "       0.03998351, 0.04367193]), 'std_fit_time': array([0.00757584, 0.00473171, 0.01752554, 0.01689881, 0.00763784,\n",
      "       0.00535953, 0.01536049, 0.0046304 , 0.00903355, 0.00320662,\n",
      "       0.01132276, 0.01754775]), 'mean_score_time': array([0.00137639, 0.00084662, 0.00075157, 0.00077391, 0.00100358,\n",
      "       0.00301449, 0.00077049, 0.00079536, 0.00071295, 0.00071677,\n",
      "       0.0006752 , 0.00063173]), 'std_score_time': array([2.28741059e-04, 7.73542457e-05, 1.91422389e-05, 8.05730171e-05,\n",
      "       2.98515189e-04, 3.24723088e-03, 6.23102698e-05, 8.21021186e-05,\n",
      "       1.12543222e-05, 3.31515202e-05, 5.16849835e-05, 8.56305220e-05]), 'param_C': masked_array(data=[0.5, 0.5, 0.5, 0.5, 1, 1, 1, 1, 2, 2, 2, 2],\n",
      "             mask=[False, False, False, False, False, False, False, False,\n",
      "                   False, False, False, False],\n",
      "       fill_value='?',\n",
      "            dtype=object), 'param_class_weight': masked_array(data=['balanced', 'balanced', 'balanced', 'balanced',\n",
      "                   'balanced', 'balanced', 'balanced', 'balanced',\n",
      "                   'balanced', 'balanced', 'balanced', 'balanced'],\n",
      "             mask=[False, False, False, False, False, False, False, False,\n",
      "                   False, False, False, False],\n",
      "       fill_value='?',\n",
      "            dtype=object), 'param_loss': masked_array(data=['hinge', 'hinge', 'squared_hinge', 'squared_hinge',\n",
      "                   'hinge', 'hinge', 'squared_hinge', 'squared_hinge',\n",
      "                   'hinge', 'hinge', 'squared_hinge', 'squared_hinge'],\n",
      "             mask=[False, False, False, False, False, False, False, False,\n",
      "                   False, False, False, False],\n",
      "       fill_value='?',\n",
      "            dtype=object), 'param_multi_class': masked_array(data=['crammer_singer', 'ovr', 'crammer_singer', 'ovr',\n",
      "                   'crammer_singer', 'ovr', 'crammer_singer', 'ovr',\n",
      "                   'crammer_singer', 'ovr', 'crammer_singer', 'ovr'],\n",
      "             mask=[False, False, False, False, False, False, False, False,\n",
      "                   False, False, False, False],\n",
      "       fill_value='?',\n",
      "            dtype=object), 'param_penalty': masked_array(data=['l2', 'l2', 'l2', 'l2', 'l2', 'l2', 'l2', 'l2', 'l2',\n",
      "                   'l2', 'l2', 'l2'],\n",
      "             mask=[False, False, False, False, False, False, False, False,\n",
      "                   False, False, False, False],\n",
      "       fill_value='?',\n",
      "            dtype=object), 'params': [{'C': 0.5, 'class_weight': 'balanced', 'loss': 'hinge', 'multi_class': 'crammer_singer', 'penalty': 'l2'}, {'C': 0.5, 'class_weight': 'balanced', 'loss': 'hinge', 'multi_class': 'ovr', 'penalty': 'l2'}, {'C': 0.5, 'class_weight': 'balanced', 'loss': 'squared_hinge', 'multi_class': 'crammer_singer', 'penalty': 'l2'}, {'C': 0.5, 'class_weight': 'balanced', 'loss': 'squared_hinge', 'multi_class': 'ovr', 'penalty': 'l2'}, {'C': 1, 'class_weight': 'balanced', 'loss': 'hinge', 'multi_class': 'crammer_singer', 'penalty': 'l2'}, {'C': 1, 'class_weight': 'balanced', 'loss': 'hinge', 'multi_class': 'ovr', 'penalty': 'l2'}, {'C': 1, 'class_weight': 'balanced', 'loss': 'squared_hinge', 'multi_class': 'crammer_singer', 'penalty': 'l2'}, {'C': 1, 'class_weight': 'balanced', 'loss': 'squared_hinge', 'multi_class': 'ovr', 'penalty': 'l2'}, {'C': 2, 'class_weight': 'balanced', 'loss': 'hinge', 'multi_class': 'crammer_singer', 'penalty': 'l2'}, {'C': 2, 'class_weight': 'balanced', 'loss': 'hinge', 'multi_class': 'ovr', 'penalty': 'l2'}, {'C': 2, 'class_weight': 'balanced', 'loss': 'squared_hinge', 'multi_class': 'crammer_singer', 'penalty': 'l2'}, {'C': 2, 'class_weight': 'balanced', 'loss': 'squared_hinge', 'multi_class': 'ovr', 'penalty': 'l2'}], 'split0_test_score': array([0.12716763, 0.13294798, 0.12716763, 0.12138728, 0.13872832,\n",
      "       0.12716763, 0.13872832, 0.12716763, 0.15028902, 0.14450867,\n",
      "       0.15028902, 0.13872832]), 'split1_test_score': array([0.16167665, 0.16167665, 0.16167665, 0.16167665, 0.16167665,\n",
      "       0.16766467, 0.16167665, 0.1497006 , 0.1497006 , 0.13772455,\n",
      "       0.1497006 , 0.1497006 ]), 'split2_test_score': array([0.175  , 0.15   , 0.175  , 0.16875, 0.18125, 0.16875, 0.18125,\n",
      "       0.18125, 0.18125, 0.1875 , 0.18125, 0.2    ]), 'mean_test_score': array([0.154, 0.148, 0.154, 0.15 , 0.16 , 0.154, 0.16 , 0.152, 0.16 ,\n",
      "       0.156, 0.16 , 0.162]), 'std_test_score': array([0.02024635, 0.01192249, 0.02024635, 0.02100726, 0.0173781 ,\n",
      "       0.01952171, 0.0173781 , 0.02211121, 0.0145794 , 0.02178905,\n",
      "       0.0145794 , 0.02645731]), 'rank_test_score': array([ 7, 12,  7, 11,  2,  7,  2, 10,  2,  6,  2,  1], dtype=int32)}\n"
     ]
    },
    {
     "name": "stderr",
     "output_type": "stream",
     "text": [
      "/home/julien/.local/lib/python3.6/site-packages/sklearn/model_selection/_search.py:814: DeprecationWarning: The default of the `iid` parameter will change from True to False in version 0.22 and will be removed in 0.24. This will change numeric results when test-set sizes are unequal.\n",
      "  DeprecationWarning)\n"
     ]
    }
   ],
   "source": [
    "from sklearn import svm, datasets\n",
    "from sklearn.model_selection import GridSearchCV\n",
    "\n",
    "parameters = {'multi_class':('crammer_singer', 'ovr'), 'class_weight':['balanced'],\n",
    "             'loss':('hinge', 'squared_hinge'), 't':['l2'], 'C':[0.5, 1, 2]}\n",
    "lsvc = LinearSVC()\n",
    "\n",
    "clf = GridSearchCV(lsvc, parameters, cv=3, n_jobs=-1)\n",
    "\n",
    "clf.fit(X_dtm, y)\n",
    "\n",
    "print(clf.cv_results_)"
   ]
  }
 ],
 "metadata": {
  "kernelspec": {
   "display_name": "Python 3",
   "language": "python",
   "name": "python3"
  },
  "language_info": {
   "codemirror_mode": {
    "name": "ipython",
    "version": 3
   },
   "file_extension": ".py",
   "mimetype": "text/x-python",
   "name": "python",
   "nbconvert_exporter": "python",
   "pygments_lexer": "ipython3",
   "version": "3.6.8"
  }
 },
 "nbformat": 4,
 "nbformat_minor": 2
}
