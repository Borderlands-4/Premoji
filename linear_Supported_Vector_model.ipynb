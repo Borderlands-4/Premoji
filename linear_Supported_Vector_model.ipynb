{
 "cells": [
  {
   "cell_type": "markdown",
   "metadata": {},
   "source": [
    "# Loading training data"
   ]
  },
  {
   "cell_type": "code",
   "execution_count": 1,
   "metadata": {},
   "outputs": [],
   "source": [
    "import csv\n",
    "import numpy as np\n",
    "X = []\n",
    "with open(\"./data/train/crawler/data/tweets.txt.text\", newline='', encoding='utf8') as file_data:\n",
    "    i = 0 \n",
    "    for row in file_data:\n",
    "        X.append(row.replace(\"\\n\",\"\"))\n",
    "            \n",
    "y = []\n",
    "with open(\"./data/train/crawler/data/tweets.txt.labels\", newline='', encoding='utf8') as file_data:\n",
    "    j = 0\n",
    "    for row in file_data:\n",
    "        y.append(row.replace(\"\\n\",\"\"))"
   ]
  },
  {
   "cell_type": "code",
   "execution_count": 2,
   "metadata": {},
   "outputs": [],
   "source": [
    "X = np.array(X)\n",
    "y = np.array(y)"
   ]
  },
  {
   "cell_type": "markdown",
   "metadata": {},
   "source": [
    "# Data vectorisation"
   ]
  },
  {
   "cell_type": "code",
   "execution_count": 3,
   "metadata": {},
   "outputs": [],
   "source": [
    "from sklearn.feature_extraction.text import CountVectorizer\n",
    "vect = CountVectorizer()\n",
    "X_dtm = vect.fit_transform(X)"
   ]
  },
  {
   "cell_type": "markdown",
   "metadata": {},
   "source": [
    "# Data test loading and vectorisation"
   ]
  },
  {
   "cell_type": "code",
   "execution_count": 4,
   "metadata": {},
   "outputs": [],
   "source": [
    "test=[]\n",
    "with open(\"./data/test/us_test.text\", newline='', encoding='utf8') as test_data:\n",
    "    file = test_data.readlines()\n",
    "    for row in file:\n",
    "        test.append(row.replace(\"\\n\",\"\"))\n",
    "\n",
    "test = np.asarray(test)\n",
    "test_dtm = vect.transform(test)"
   ]
  },
  {
   "cell_type": "code",
   "execution_count": 5,
   "metadata": {},
   "outputs": [],
   "source": [
    "test_label = []\n",
    "with open(\"./data/test/us_test.labels\", newline='', encoding='utf8') as test_data_label:\n",
    "    file = test_data_label.readlines()\n",
    "    for row in file:\n",
    "        test_label.append(row.replace(\"\\n\",\"\"))\n",
    "test_label = np.asarray(test_label)\n",
    "test_label = test_label.reshape(-1,1)"
   ]
  },
  {
   "cell_type": "markdown",
   "metadata": {},
   "source": [
    "# Model implementation and training\n",
    "## Measurements calculation and results"
   ]
  },
  {
   "cell_type": "code",
   "execution_count": 6,
   "metadata": {},
   "outputs": [
    {
     "name": "stderr",
     "output_type": "stream",
     "text": [
      "/home/julien/.local/lib/python3.6/site-packages/sklearn/svm/base.py:929: ConvergenceWarning: Liblinear failed to converge, increase the number of iterations.\n",
      "  \"the number of iterations.\", ConvergenceWarning)\n"
     ]
    },
    {
     "name": "stdout",
     "output_type": "stream",
     "text": [
      "              precision    recall  f1-score   support\n",
      "\n",
      "           0       0.41      0.20      0.27     10798\n",
      "           1       0.23      0.15      0.18      4830\n",
      "          10       0.12      0.13      0.12      1432\n",
      "          11       0.42      0.54      0.47      1949\n",
      "          12       0.20      0.44      0.28      1265\n",
      "          13       0.08      0.12      0.09      1114\n",
      "          14       0.06      0.08      0.07      1306\n",
      "          15       0.13      0.24      0.17      1244\n",
      "          16       0.06      0.11      0.08      1153\n",
      "          17       0.45      0.62      0.52      1545\n",
      "          18       0.21      0.16      0.18      2417\n",
      "          19       0.04      0.08      0.05      1010\n",
      "           2       0.34      0.29      0.31      4534\n",
      "           3       0.11      0.11      0.11      2605\n",
      "           4       0.43      0.36      0.39      3716\n",
      "           5       0.06      0.09      0.07      1613\n",
      "           6       0.12      0.13      0.12      1996\n",
      "           7       0.21      0.21      0.21      2749\n",
      "           8       0.10      0.13      0.12      1549\n",
      "           9       0.08      0.13      0.10      1175\n",
      "\n",
      "    accuracy                           0.22     50000\n",
      "   macro avg       0.19      0.22      0.20     50000\n",
      "weighted avg       0.26      0.22      0.23     50000\n",
      "\n",
      "la matrice de confusion : \n",
      "[[[36141  3061]\n",
      "  [ 8674  2124]]\n",
      "\n",
      " [[42704  2466]\n",
      "  [ 4104   726]]\n",
      "\n",
      " [[47150  1418]\n",
      "  [ 1247   185]]\n",
      "\n",
      " [[46567  1484]\n",
      "  [  895  1054]]\n",
      "\n",
      " [[46560  2175]\n",
      "  [  710   555]]\n",
      "\n",
      " [[47246  1640]\n",
      "  [  978   136]]\n",
      "\n",
      " [[46896  1798]\n",
      "  [ 1200   106]]\n",
      "\n",
      " [[46680  2076]\n",
      "  [  944   300]]\n",
      "\n",
      " [[46867  1980]\n",
      "  [ 1022   131]]\n",
      "\n",
      " [[47277  1178]\n",
      "  [  582   963]]\n",
      "\n",
      " [[46113  1470]\n",
      "  [ 2037   380]]\n",
      "\n",
      " [[47230  1760]\n",
      "  [  934    76]]\n",
      "\n",
      " [[42885  2581]\n",
      "  [ 3229  1305]]\n",
      "\n",
      " [[45212  2183]\n",
      "  [ 2322   283]]\n",
      "\n",
      " [[44467  1817]\n",
      "  [ 2363  1353]]\n",
      "\n",
      " [[46204  2183]\n",
      "  [ 1472   141]]\n",
      "\n",
      " [[46072  1932]\n",
      "  [ 1743   253]]\n",
      "\n",
      " [[45135  2116]\n",
      "  [ 2182   567]]\n",
      "\n",
      " [[46653  1798]\n",
      "  [ 1340   209]]\n",
      "\n",
      " [[46942  1883]\n",
      "  [ 1021   154]]]\n"
     ]
    }
   ],
   "source": [
    "import pandas as pd\n",
    "from sklearn.svm import LinearSVC\n",
    "from sklearn.model_selection import cross_val_score\n",
    "from sklearn.metrics import multilabel_confusion_matrix, accuracy_score, f1_score, jaccard_score, classification_report\n",
    "\n",
    "\n",
    "models = [\n",
    "    LinearSVC(C = 2, class_weight = 'balanced')\n",
    "]\n",
    "\n",
    "# Size of the cross validation \n",
    "CV = 5\n",
    "cv_df = pd.DataFrame(index=range(CV * len(models)))\n",
    "entries = []\n",
    "\n",
    "for model in models:\n",
    "    model_name = model.__class__.__name__\n",
    "    # Training\n",
    "    model.fit(X_dtm, y)\n",
    "    #Prediction\n",
    "    predict_label = model.predict(test_dtm)\n",
    "    # Measurements calculation\n",
    "    acc = accuracy_score(predict_label,test_label)\n",
    "    f1 = f1_score(predict_label, test_label, average = 'weighted')\n",
    "    cm = multilabel_confusion_matrix(test_label,predict_label)\n",
    "    jaccard = jaccard_score(test_label, predict_label, average='micro')\n",
    "    print(classification_report(test_label, predict_label))\n",
    "    print (\"la matrice de confusion : \")\n",
    "    print(cm)\n",
    "    entries.append((model_name, acc, f1, jaccard))\n",
    "    \n",
    "cv_df = pd.DataFrame(entries, columns=['model_name', 'accuracy', 'f1', 'jaccard'])"
   ]
  },
  {
   "cell_type": "code",
   "execution_count": 7,
   "metadata": {},
   "outputs": [
    {
     "name": "stdout",
     "output_type": "stream",
     "text": [
      "  model_name  accuracy        f1   jaccard\n",
      "0  LinearSVC   0.22002  0.213047  0.123608\n"
     ]
    }
   ],
   "source": [
    "print (cv_df)"
   ]
  },
  {
   "cell_type": "markdown",
   "metadata": {},
   "source": [
    "# Grid Search use to find the best parameters for this model"
   ]
  },
  {
   "cell_type": "code",
   "execution_count": 34,
   "metadata": {},
   "outputs": [
    {
     "name": "stdout",
     "output_type": "stream",
     "text": [
      "{'mean_fit_time': array([0.05892825, 0.02644642, 0.05153545, 0.04271213, 0.07403366,\n",
      "       0.04101721, 0.05581911, 0.04363139, 0.04777376, 0.02871299,\n",
      "       0.03998351, 0.04367193]), 'std_fit_time': array([0.00757584, 0.00473171, 0.01752554, 0.01689881, 0.00763784,\n",
      "       0.00535953, 0.01536049, 0.0046304 , 0.00903355, 0.00320662,\n",
      "       0.01132276, 0.01754775]), 'mean_score_time': array([0.00137639, 0.00084662, 0.00075157, 0.00077391, 0.00100358,\n",
      "       0.00301449, 0.00077049, 0.00079536, 0.00071295, 0.00071677,\n",
      "       0.0006752 , 0.00063173]), 'std_score_time': array([2.28741059e-04, 7.73542457e-05, 1.91422389e-05, 8.05730171e-05,\n",
      "       2.98515189e-04, 3.24723088e-03, 6.23102698e-05, 8.21021186e-05,\n",
      "       1.12543222e-05, 3.31515202e-05, 5.16849835e-05, 8.56305220e-05]), 'param_C': masked_array(data=[0.5, 0.5, 0.5, 0.5, 1, 1, 1, 1, 2, 2, 2, 2],\n",
      "             mask=[False, False, False, False, False, False, False, False,\n",
      "                   False, False, False, False],\n",
      "       fill_value='?',\n",
      "            dtype=object), 'param_class_weight': masked_array(data=['balanced', 'balanced', 'balanced', 'balanced',\n",
      "                   'balanced', 'balanced', 'balanced', 'balanced',\n",
      "                   'balanced', 'balanced', 'balanced', 'balanced'],\n",
      "             mask=[False, False, False, False, False, False, False, False,\n",
      "                   False, False, False, False],\n",
      "       fill_value='?',\n",
      "            dtype=object), 'param_loss': masked_array(data=['hinge', 'hinge', 'squared_hinge', 'squared_hinge',\n",
      "                   'hinge', 'hinge', 'squared_hinge', 'squared_hinge',\n",
      "                   'hinge', 'hinge', 'squared_hinge', 'squared_hinge'],\n",
      "             mask=[False, False, False, False, False, False, False, False,\n",
      "                   False, False, False, False],\n",
      "       fill_value='?',\n",
      "            dtype=object), 'param_multi_class': masked_array(data=['crammer_singer', 'ovr', 'crammer_singer', 'ovr',\n",
      "                   'crammer_singer', 'ovr', 'crammer_singer', 'ovr',\n",
      "                   'crammer_singer', 'ovr', 'crammer_singer', 'ovr'],\n",
      "             mask=[False, False, False, False, False, False, False, False,\n",
      "                   False, False, False, False],\n",
      "       fill_value='?',\n",
      "            dtype=object), 'param_penalty': masked_array(data=['l2', 'l2', 'l2', 'l2', 'l2', 'l2', 'l2', 'l2', 'l2',\n",
      "                   'l2', 'l2', 'l2'],\n",
      "             mask=[False, False, False, False, False, False, False, False,\n",
      "                   False, False, False, False],\n",
      "       fill_value='?',\n",
      "            dtype=object), 'params': [{'C': 0.5, 'class_weight': 'balanced', 'loss': 'hinge', 'multi_class': 'crammer_singer', 'penalty': 'l2'}, {'C': 0.5, 'class_weight': 'balanced', 'loss': 'hinge', 'multi_class': 'ovr', 'penalty': 'l2'}, {'C': 0.5, 'class_weight': 'balanced', 'loss': 'squared_hinge', 'multi_class': 'crammer_singer', 'penalty': 'l2'}, {'C': 0.5, 'class_weight': 'balanced', 'loss': 'squared_hinge', 'multi_class': 'ovr', 'penalty': 'l2'}, {'C': 1, 'class_weight': 'balanced', 'loss': 'hinge', 'multi_class': 'crammer_singer', 'penalty': 'l2'}, {'C': 1, 'class_weight': 'balanced', 'loss': 'hinge', 'multi_class': 'ovr', 'penalty': 'l2'}, {'C': 1, 'class_weight': 'balanced', 'loss': 'squared_hinge', 'multi_class': 'crammer_singer', 'penalty': 'l2'}, {'C': 1, 'class_weight': 'balanced', 'loss': 'squared_hinge', 'multi_class': 'ovr', 'penalty': 'l2'}, {'C': 2, 'class_weight': 'balanced', 'loss': 'hinge', 'multi_class': 'crammer_singer', 'penalty': 'l2'}, {'C': 2, 'class_weight': 'balanced', 'loss': 'hinge', 'multi_class': 'ovr', 'penalty': 'l2'}, {'C': 2, 'class_weight': 'balanced', 'loss': 'squared_hinge', 'multi_class': 'crammer_singer', 'penalty': 'l2'}, {'C': 2, 'class_weight': 'balanced', 'loss': 'squared_hinge', 'multi_class': 'ovr', 'penalty': 'l2'}], 'split0_test_score': array([0.12716763, 0.13294798, 0.12716763, 0.12138728, 0.13872832,\n",
      "       0.12716763, 0.13872832, 0.12716763, 0.15028902, 0.14450867,\n",
      "       0.15028902, 0.13872832]), 'split1_test_score': array([0.16167665, 0.16167665, 0.16167665, 0.16167665, 0.16167665,\n",
      "       0.16766467, 0.16167665, 0.1497006 , 0.1497006 , 0.13772455,\n",
      "       0.1497006 , 0.1497006 ]), 'split2_test_score': array([0.175  , 0.15   , 0.175  , 0.16875, 0.18125, 0.16875, 0.18125,\n",
      "       0.18125, 0.18125, 0.1875 , 0.18125, 0.2    ]), 'mean_test_score': array([0.154, 0.148, 0.154, 0.15 , 0.16 , 0.154, 0.16 , 0.152, 0.16 ,\n",
      "       0.156, 0.16 , 0.162]), 'std_test_score': array([0.02024635, 0.01192249, 0.02024635, 0.02100726, 0.0173781 ,\n",
      "       0.01952171, 0.0173781 , 0.02211121, 0.0145794 , 0.02178905,\n",
      "       0.0145794 , 0.02645731]), 'rank_test_score': array([ 7, 12,  7, 11,  2,  7,  2, 10,  2,  6,  2,  1], dtype=int32)}\n"
     ]
    },
    {
     "name": "stderr",
     "output_type": "stream",
     "text": [
      "/home/julien/.local/lib/python3.6/site-packages/sklearn/model_selection/_search.py:814: DeprecationWarning: The default of the `iid` parameter will change from True to False in version 0.22 and will be removed in 0.24. This will change numeric results when test-set sizes are unequal.\n",
      "  DeprecationWarning)\n"
     ]
    }
   ],
   "source": [
    "from sklearn import svm, datasets\n",
    "from sklearn.model_selection import GridSearchCV\n",
    "\n",
    "# Works better with C = 2 and class_weigth = balanced\n",
    "parameters = {'multi_class':('crammer_singer', 'ovr'), 'class_weight':['balanced'],\n",
    "             'loss':('hinge', 'squared_hinge'), 't':['l2'], 'C':[0.5, 1, 2]}\n",
    "lsvc = LinearSVC()\n",
    "\n",
    "# Grid Search based on Linear Support Vector with cross validation = 3 and all thread use\n",
    "clf = GridSearchCV(lsvc, parameters, cv=3, n_jobs=-1)\n",
    "\n",
    "# Start of Grid Search\n",
    "clf.fit(X_dtm, y)\n",
    "\n",
    "print(clf.cv_results_)"
   ]
  }
 ],
 "metadata": {
  "kernelspec": {
   "display_name": "Python 3",
   "language": "python",
   "name": "python3"
  },
  "language_info": {
   "codemirror_mode": {
    "name": "ipython",
    "version": 3
   },
   "file_extension": ".py",
   "mimetype": "text/x-python",
   "name": "python",
   "nbconvert_exporter": "python",
   "pygments_lexer": "ipython3",
   "version": "3.6.8"
  }
 },
 "nbformat": 4,
 "nbformat_minor": 2
}
