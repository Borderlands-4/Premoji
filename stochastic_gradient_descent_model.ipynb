{
 "cells": [
  {
   "cell_type": "markdown",
   "metadata": {},
   "source": [
    "# Loading training data"
   ]
  },
  {
   "cell_type": "code",
   "execution_count": 1,
   "metadata": {},
   "outputs": [],
   "source": [
    "import csv\n",
    "import numpy as np\n",
    "X = []\n",
    "with open(\"./data/train/crawler/data/tweets.txt.text\", newline='', encoding='utf8') as file_data:\n",
    "    i = 0 \n",
    "    for row in file_data:\n",
    "        X.append(row)\n",
    "\n",
    "y = []\n",
    "with open(\"./data/train/crawler/data/tweets.txt.labels\", newline='', encoding='utf8') as file_data:\n",
    "    j = 0\n",
    "    for row in file_data:\n",
    "        y.append(row.replace(\"\\n\",\"\"))\n"
   ]
  },
  {
   "cell_type": "code",
   "execution_count": 2,
   "metadata": {},
   "outputs": [],
   "source": [
    "X = np.array(X)\n",
    "y = np.array(y)"
   ]
  },
  {
   "cell_type": "markdown",
   "metadata": {},
   "source": [
    "# Data vectorisation"
   ]
  },
  {
   "cell_type": "code",
   "execution_count": 3,
   "metadata": {},
   "outputs": [],
   "source": [
    "from sklearn.feature_extraction.text import CountVectorizer\n",
    "vect = CountVectorizer()\n",
    "X_dtm = vect.fit_transform(X)"
   ]
  },
  {
   "cell_type": "markdown",
   "metadata": {},
   "source": [
    "# Data test loading and vectorisation"
   ]
  },
  {
   "cell_type": "code",
   "execution_count": 4,
   "metadata": {},
   "outputs": [],
   "source": [
    "test=[]\n",
    "with open(\"./data/test/us_test.text\", newline='', encoding='utf8') as test_data:\n",
    "    file = test_data.readlines()\n",
    "    for row in file:\n",
    "        test.append(row.replace(\"\\n\",\"\"))\n",
    "\n",
    "test = np.asarray(test)\n",
    "test_dtm = vect.transform(test)"
   ]
  },
  {
   "cell_type": "code",
   "execution_count": 5,
   "metadata": {},
   "outputs": [],
   "source": [
    "test_label = []\n",
    "with open(\"./data/test/us_test.labels\", newline='', encoding='utf8') as test_data_label:\n",
    "    file = test_data_label.readlines()\n",
    "    for row in file:\n",
    "        test_label.append(row.replace(\"\\n\",\"\"))\n",
    "test_label = np.asarray(test_label)\n",
    "test_label = test_label.reshape(-1,1)"
   ]
  },
  {
   "cell_type": "markdown",
   "metadata": {},
   "source": [
    "# Model implementation and training\n",
    "## Measurements calculation and results"
   ]
  },
  {
   "cell_type": "code",
   "execution_count": 6,
   "metadata": {},
   "outputs": [
    {
     "name": "stderr",
     "output_type": "stream",
     "text": [
      "/home/julien/.local/lib/python3.6/site-packages/sklearn/metrics/classification.py:1439: UndefinedMetricWarning: F-score is ill-defined and being set to 0.0 in labels with no true samples.\n",
      "  'recall', 'true', average, warn_for)\n",
      "/home/julien/.local/lib/python3.6/site-packages/sklearn/metrics/classification.py:1437: UndefinedMetricWarning: Precision and F-score are ill-defined and being set to 0.0 in labels with no predicted samples.\n",
      "  'precision', 'predicted', average, warn_for)\n"
     ]
    },
    {
     "name": "stdout",
     "output_type": "stream",
     "text": [
      "              precision    recall  f1-score   support\n",
      "\n",
      "           0       0.26      0.88      0.40     10798\n",
      "           1       0.28      0.07      0.12      4830\n",
      "          10       0.15      0.09      0.11      1432\n",
      "          11       0.70      0.16      0.26      1949\n",
      "          12       0.40      0.18      0.25      1265\n",
      "          13       0.00      0.00      0.00      1114\n",
      "          14       0.00      0.00      0.00      1306\n",
      "          15       0.33      0.00      0.00      1244\n",
      "          16       0.00      0.00      0.00      1153\n",
      "          17       0.68      0.54      0.60      1545\n",
      "          18       0.50      0.00      0.00      2417\n",
      "          19       0.00      0.00      0.00      1010\n",
      "           2       0.28      0.42      0.33      4534\n",
      "           3       0.00      0.00      0.00      2605\n",
      "           4       0.57      0.27      0.37      3716\n",
      "           5       0.11      0.00      0.00      1613\n",
      "           6       0.50      0.01      0.03      1996\n",
      "           7       0.46      0.01      0.03      2749\n",
      "           8       0.33      0.00      0.01      1549\n",
      "           9       0.00      0.00      0.00      1175\n",
      "\n",
      "    accuracy                           0.29     50000\n",
      "   macro avg       0.28      0.13      0.13     50000\n",
      "weighted avg       0.30      0.29      0.20     50000\n",
      "\n",
      "la matrice de confusion : \n",
      "[[[11903 27299]\n",
      "  [ 1281  9517]]\n",
      "\n",
      " [[44255   915]\n",
      "  [ 4468   362]]\n",
      "\n",
      " [[47863   705]\n",
      "  [ 1310   122]]\n",
      "\n",
      " [[47919   132]\n",
      "  [ 1643   306]]\n",
      "\n",
      " [[48395   340]\n",
      "  [ 1034   231]]\n",
      "\n",
      " [[48886     0]\n",
      "  [ 1114     0]]\n",
      "\n",
      " [[48694     0]\n",
      "  [ 1306     0]]\n",
      "\n",
      " [[48752     4]\n",
      "  [ 1242     2]]\n",
      "\n",
      " [[48847     0]\n",
      "  [ 1153     0]]\n",
      "\n",
      " [[48069   386]\n",
      "  [  718   827]]\n",
      "\n",
      " [[47580     3]\n",
      "  [ 2414     3]]\n",
      "\n",
      " [[48990     0]\n",
      "  [ 1010     0]]\n",
      "\n",
      " [[40476  4990]\n",
      "  [ 2639  1895]]\n",
      "\n",
      " [[47395     0]\n",
      "  [ 2605     0]]\n",
      "\n",
      " [[45531   753]\n",
      "  [ 2711  1005]]\n",
      "\n",
      " [[48354    33]\n",
      "  [ 1609     4]]\n",
      "\n",
      " [[47975    29]\n",
      "  [ 1967    29]]\n",
      "\n",
      " [[47203    48]\n",
      "  [ 2708    41]]\n",
      "\n",
      " [[48439    12]\n",
      "  [ 1543     6]]\n",
      "\n",
      " [[48824     1]\n",
      "  [ 1175     0]]]\n"
     ]
    }
   ],
   "source": [
    "import pandas as pd\n",
    "from sklearn.linear_model import SGDClassifier\n",
    "from sklearn.model_selection import cross_val_score\n",
    "from sklearn.metrics import multilabel_confusion_matrix, accuracy_score, f1_score, jaccard_score, classification_report\n",
    "\n",
    "models = [\n",
    "    SGDClassifier(loss='log', penalty='l2', alpha=0.001, l1_ratio=0.15, fit_intercept=True, max_iter=1000, \n",
    "                    tol=0.001, epsilon=0.1, n_jobs=-1, validation_fraction=0.1, \n",
    "                    n_iter_no_change=5)\n",
    "\n",
    "]\n",
    "\n",
    "CV = 5\n",
    "cv_df = pd.DataFrame(index=range(CV * len(models)))\n",
    "entries = []\n",
    "\n",
    "for model in models:\n",
    "    model_name = model.__class__.__name__\n",
    "    model.fit(X_dtm, y)\n",
    "    predict_label = model.predict(test_dtm)\n",
    "    acc = accuracy_score(predict_label,test_label)\n",
    "    f1 = f1_score(predict_label, test_label, average = 'weighted')\n",
    "    cm = multilabel_confusion_matrix(test_label,predict_label)\n",
    "    jaccard = jaccard_score(test_label, predict_label, average='micro')\n",
    "    print(classification_report(test_label, predict_label))\n",
    "    print (\"la matrice de confusion : \")\n",
    "    print(cm)\n",
    "    entries.append((model_name, acc, f1, jaccard))\n",
    "    \n",
    "cv_df = pd.DataFrame(entries, columns=['model_name', 'accuracy', 'f1', 'jaccard'])"
   ]
  },
  {
   "cell_type": "code",
   "execution_count": 7,
   "metadata": {},
   "outputs": [
    {
     "name": "stdout",
     "output_type": "stream",
     "text": [
      "      model_name  accuracy        f1   jaccard\n",
      "0  SGDClassifier     0.287  0.377536  0.167542\n"
     ]
    }
   ],
   "source": [
    "print(cv_df)"
   ]
  },
  {
   "cell_type": "markdown",
   "metadata": {},
   "source": [
    "# Grid Search use to find the best parameters for this model"
   ]
  },
  {
   "cell_type": "code",
   "execution_count": 19,
   "metadata": {},
   "outputs": [
    {
     "name": "stdout",
     "output_type": "stream",
     "text": [
      "{'mean_fit_time': array([0.10695187, 0.10583456, 0.10537783, 0.10672967, 0.10555379,\n",
      "       0.10584307, 0.10597563, 0.10581088, 0.10659146, 0.1049238 ,\n",
      "       0.10333085, 0.10419432]), 'std_fit_time': array([0.0003163 , 0.00145405, 0.0019632 , 0.00246297, 0.00088142,\n",
      "       0.00066537, 0.0011465 , 0.00253886, 0.002998  , 0.00133233,\n",
      "       0.00012408, 0.00048818]), 'mean_score_time': array([0.00113877, 0.00090917, 0.00089359, 0.00091108, 0.00115363,\n",
      "       0.00109688, 0.00089653, 0.00084003, 0.00097855, 0.00072837,\n",
      "       0.00098077, 0.00131488]), 'std_score_time': array([2.36474803e-04, 2.43973421e-04, 2.35064518e-04, 6.40423054e-05,\n",
      "       3.76382188e-04, 1.83180408e-04, 2.25658396e-04, 2.32812972e-04,\n",
      "       2.11573202e-04, 1.22644674e-04, 2.65906545e-04, 1.95100804e-04]), 'param_alpha': masked_array(data=[0.0001, 0.0001, 0.0001, 0.0001, 0.0001, 0.0001, 0.001,\n",
      "                   0.001, 0.001, 0.001, 0.001, 0.001],\n",
      "             mask=[False, False, False, False, False, False, False, False,\n",
      "                   False, False, False, False],\n",
      "       fill_value='?',\n",
      "            dtype=object), 'param_loss': masked_array(data=['hinge', 'hinge', 'log', 'log', 'modified_huber',\n",
      "                   'modified_huber', 'hinge', 'hinge', 'log', 'log',\n",
      "                   'modified_huber', 'modified_huber'],\n",
      "             mask=[False, False, False, False, False, False, False, False,\n",
      "                   False, False, False, False],\n",
      "       fill_value='?',\n",
      "            dtype=object), 'param_penalty': masked_array(data=['l2', 'elasticnet', 'l2', 'elasticnet', 'l2',\n",
      "                   'elasticnet', 'l2', 'elasticnet', 'l2', 'elasticnet',\n",
      "                   'l2', 'elasticnet'],\n",
      "             mask=[False, False, False, False, False, False, False, False,\n",
      "                   False, False, False, False],\n",
      "       fill_value='?',\n",
      "            dtype=object), 'params': [{'alpha': 0.0001, 'loss': 'hinge', 'penalty': 'l2'}, {'alpha': 0.0001, 'loss': 'hinge', 'penalty': 'elasticnet'}, {'alpha': 0.0001, 'loss': 'log', 'penalty': 'l2'}, {'alpha': 0.0001, 'loss': 'log', 'penalty': 'elasticnet'}, {'alpha': 0.0001, 'loss': 'modified_huber', 'penalty': 'l2'}, {'alpha': 0.0001, 'loss': 'modified_huber', 'penalty': 'elasticnet'}, {'alpha': 0.001, 'loss': 'hinge', 'penalty': 'l2'}, {'alpha': 0.001, 'loss': 'hinge', 'penalty': 'elasticnet'}, {'alpha': 0.001, 'loss': 'log', 'penalty': 'l2'}, {'alpha': 0.001, 'loss': 'log', 'penalty': 'elasticnet'}, {'alpha': 0.001, 'loss': 'modified_huber', 'penalty': 'l2'}, {'alpha': 0.001, 'loss': 'modified_huber', 'penalty': 'elasticnet'}], 'split0_test_score': array([0.08092486, 0.0982659 , 0.11560694, 0.12716763, 0.12716763,\n",
      "       0.12138728, 0.12138728, 0.0982659 , 0.13872832, 0.16184971,\n",
      "       0.10982659, 0.11560694]), 'split1_test_score': array([0.10778443, 0.07784431, 0.11976048, 0.16766467, 0.08383234,\n",
      "       0.13173653, 0.13772455, 0.14371257, 0.15568862, 0.17365269,\n",
      "       0.13772455, 0.09580838]), 'split2_test_score': array([0.11875, 0.1125 , 0.1875 , 0.15625, 0.15625, 0.14375, 0.16875,\n",
      "       0.18125, 0.175  , 0.175  , 0.1875 , 0.13125]), 'mean_test_score': array([0.102, 0.096, 0.14 , 0.15 , 0.122, 0.132, 0.142, 0.14 , 0.156,\n",
      "       0.17 , 0.144, 0.114]), 'std_test_score': array([0.0159573 , 0.01410647, 0.03262969, 0.01723651, 0.02951578,\n",
      "       0.00911993, 0.01954726, 0.03393735, 0.01479081, 0.00595316,\n",
      "       0.0319803 , 0.01437518]), 'rank_test_score': array([11, 12,  6,  3,  9,  8,  5,  6,  2,  1,  4, 10], dtype=int32)}\n"
     ]
    },
    {
     "name": "stderr",
     "output_type": "stream",
     "text": [
      "/home/julien/.local/lib/python3.6/site-packages/sklearn/model_selection/_search.py:814: DeprecationWarning: The default of the `iid` parameter will change from True to False in version 0.22 and will be removed in 0.24. This will change numeric results when test-set sizes are unequal.\n",
      "  DeprecationWarning)\n"
     ]
    }
   ],
   "source": [
    "from sklearn import svm, datasets\n",
    "from sklearn.model_selection import GridSearchCV\n",
    "from sklearn.linear_model import SGDClassifier\n",
    "\n",
    "# Best with 'alpha': 0.001, 'loss': 'log', 'penalty': 'l2'\n",
    "parameters = {'loss':('hinge', 'log', 'modified_huber'), 'penalty':('l2', 'elasticnet'), 'alpha':[0.0001, 0.001], }\n",
    "sgd = SGDClassifier(l1_ratio=0.15, fit_intercept=True, max_iter=1000, \n",
    "                    tol=0.001, epsilon=0.1, n_jobs=-1, validation_fraction=0.1, \n",
    "                    n_iter_no_change=5)\n",
    "\n",
    "clf = GridSearchCV(sgd, parameters, cv=3, n_jobs=-1)\n",
    "\n",
    "clf.fit(X_dtm, y)\n",
    "\n",
    "print(clf.cv_results_)"
   ]
  }
 ],
 "metadata": {
  "kernelspec": {
   "display_name": "Python 3",
   "language": "python",
   "name": "python3"
  },
  "language_info": {
   "codemirror_mode": {
    "name": "ipython",
    "version": 3
   },
   "file_extension": ".py",
   "mimetype": "text/x-python",
   "name": "python",
   "nbconvert_exporter": "python",
   "pygments_lexer": "ipython3",
   "version": "3.6.8"
  }
 },
 "nbformat": 4,
 "nbformat_minor": 2
}
